{
 "cells": [
  {
   "cell_type": "markdown",
   "metadata": {},
   "source": [
    "___\n",
    "# Atividade: Análise Exploratória - Tipos de Variáveis e Medidas Resumo\n",
    "___\n",
    "\n",
    "## Aula 02\n"
   ]
  },
  {
   "cell_type": "markdown",
   "metadata": {},
   "source": [
    "<div id=\"indice\"></div>\n",
    "\n",
    "## Índice\n",
    "\n",
    "- [Empresa de TV](#empresa-de-tv)\n",
    "    - [Tipos de variáveis](#tipos-de-variaveis)\n",
    "    - [Exercício 1](#ex1)\n",
    "- [Variáveis QUALITATIVAS](#quali)\n",
    "    - [Definindo as variáveis qualitativas como categóricas](#definindo-as-variaveis-qualitativas-como-categoricas)\n",
    "    - [Tabelas de frequências - Variáveis Qualitativas](#tab-freq-quali)\n",
    "        - [Exercício 2](#ex2)\n",
    "        - [Exercício 3](#ex3)\n",
    "    - [Tabelas cruzadas entre variáveis qualitativas](#tabelas-cruzadas-entre-variaveis-qualitativas)\n",
    "        - [Exercício 4](#ex4)\n",
    "        - [Exercício 5](#ex5)\n",
    "- [Variáveis QUANTITATIVAS](#quanti)\n",
    "    - [Tabelas de frequências - Variáveis Quantitativas - CUIDADO](#tab-freq-quanti)\n",
    "        - [Exercício 6](#ex6)   \n",
    "    - [Medidas resumo](#medidas-resumo)\n",
    "        - [Exercício 7](#ex7)\n",
    "        - [Exercício 8](#ex8)\n",
    "        - [Exercício 9](#ex9)\n",
    "        - [Exercício 10](#ex10)\n",
    "        - [Exercício 11](#ex11)\n",
    "- [Lista de comandos utilizados neste notebook](#comandos)\n",
    "\n",
    "\n",
    "___"
   ]
  },
  {
   "cell_type": "markdown",
   "metadata": {},
   "source": [
    "<div id=\"empresa-de-tv\"></div>\n",
    "\n",
    "# Empresa de TV\n",
    "\n",
    "Uma empresa de TV via satélite criou recentemente dois tipos de planos de canais (A e B).\n",
    "\n",
    "A empresa tem como objetivo estudar o perfil dos clientes que aderiram ao plano para enviar malas diretas aos potenciais clientes de cada tipo de plano.\n",
    "\n",
    "A base de dados apresenta algumas variáveis para uma amostra de 82 clientes selecionados aleatoriamente dentre aqueles que aderiram aos planos. As variáveis têm os seguintes significados:\n",
    "\n",
    "* CLIENTE: identificador do cliente. # Nominal\n",
    "* PLANO: apresenta o plano adquirido pelo cliente – (1=A ou 2=B). # Nominal\n",
    "* EC: apresenta estado civil do cliente no momento da adesão ao  plano – (1=Casado, 2=Solteiro e 3=Outros). # Nominal\n",
    "* SATISFACAO: grau de satisfação do cliente pelo plano – \n",
    "\t(Muito insatisfeito, Insatisfeito, Indiferente, Satisfeito e Muito satisfeito). # Ordinal\n",
    "* RENDA: renda pessoal do cliente, em milhares de reais. # Quantitativo - Contínua\n",
    "\n",
    "O arquivo `EmpresaTV_Cod.xlsx` contém as variáveis descritas acima.\n"
   ]
  },
  {
   "cell_type": "markdown",
   "metadata": {},
   "source": [
    "<div id=\"tipos-de-variaveis\"></div>\n",
    "\n",
    "## Tipos de variáveis\n",
    "\n",
    "Antes de olhar os dados, vamos refletir sobre os tipos de cada variável disponível. Lembrando que temos:\n",
    "\n",
    "- Variáveis qualitativas (ou CATEGÓRICAS):\n",
    "    - Nominal\n",
    "    - Ordinal\n",
    "- Variáveis quantitativas (ou NUMÉRICAS):\n",
    "    - Discreta\n",
    "    - Contínua"
   ]
  },
  {
   "cell_type": "markdown",
   "metadata": {},
   "source": [
    "<div id=\"ex1\"></div>\n",
    "\n",
    "### EXERCÍCIO 1:\n",
    "\n",
    "Classifique cada uma das variáveis disponíveis <font color=\"red\">(modifique esta célula)</font>:\n",
    "\n",
    "- PLANO: [Qualitativa - Nominal]\n",
    "- EC (Estado Civil): [Quantitativa - Discreta]\n",
    "- SATISFACAO: [Qualitativa - Ordina]\n",
    "- RENDA: [Quantitativa - Contínua]"
   ]
  },
  {
   "cell_type": "markdown",
   "metadata": {},
   "source": [
    "___\n",
    "Agora sim, vamos carregar os dados do arquivo:"
   ]
  },
  {
   "cell_type": "code",
   "execution_count": 1,
   "metadata": {},
   "outputs": [],
   "source": [
    "%matplotlib inline\n",
    "import pandas as pd\n",
    "import os\n",
    "\n",
    "# Para ter melhor print\n",
    "from IPython.display import display"
   ]
  },
  {
   "cell_type": "code",
   "execution_count": 2,
   "metadata": {},
   "outputs": [
    {
     "name": "stdout",
     "output_type": "stream",
     "text": [
      "Esperamos trabalhar no diretório\n",
      "C:\\Users\\quezi\\OneDrive\\Área de Trabalho\\CD21-2\\aula02\n"
     ]
    }
   ],
   "source": [
    "# Listando o diretório de trabalho. Lembre-se que o arquivo com a base de dados precisa estar neste diretório.\n",
    "print('Esperamos trabalhar no diretório')\n",
    "print(os.getcwd())"
   ]
  },
  {
   "cell_type": "code",
   "execution_count": 3,
   "metadata": {},
   "outputs": [],
   "source": [
    "# Carregando os dados do arquivo\n",
    "dados = pd.read_excel('EmpresaTV_Cod.xlsx')"
   ]
  },
  {
   "cell_type": "code",
   "execution_count": 4,
   "metadata": {
    "scrolled": true
   },
   "outputs": [
    {
     "data": {
      "text/html": [
       "<div>\n",
       "<style scoped>\n",
       "    .dataframe tbody tr th:only-of-type {\n",
       "        vertical-align: middle;\n",
       "    }\n",
       "\n",
       "    .dataframe tbody tr th {\n",
       "        vertical-align: top;\n",
       "    }\n",
       "\n",
       "    .dataframe thead th {\n",
       "        text-align: right;\n",
       "    }\n",
       "</style>\n",
       "<table border=\"1\" class=\"dataframe\">\n",
       "  <thead>\n",
       "    <tr style=\"text-align: right;\">\n",
       "      <th></th>\n",
       "      <th>CLIENTE</th>\n",
       "      <th>PLANO</th>\n",
       "      <th>EC</th>\n",
       "      <th>SATISFACAO</th>\n",
       "      <th>RENDA</th>\n",
       "    </tr>\n",
       "  </thead>\n",
       "  <tbody>\n",
       "    <tr>\n",
       "      <th>0</th>\n",
       "      <td>1</td>\n",
       "      <td>1</td>\n",
       "      <td>1</td>\n",
       "      <td>Muito Satisfeito</td>\n",
       "      <td>21.4</td>\n",
       "    </tr>\n",
       "    <tr>\n",
       "      <th>1</th>\n",
       "      <td>2</td>\n",
       "      <td>1</td>\n",
       "      <td>2</td>\n",
       "      <td>Muito Satisfeito</td>\n",
       "      <td>17.2</td>\n",
       "    </tr>\n",
       "    <tr>\n",
       "      <th>2</th>\n",
       "      <td>3</td>\n",
       "      <td>1</td>\n",
       "      <td>3</td>\n",
       "      <td>Muito Satisfeito</td>\n",
       "      <td>15.6</td>\n",
       "    </tr>\n",
       "  </tbody>\n",
       "</table>\n",
       "</div>"
      ],
      "text/plain": [
       "   CLIENTE  PLANO  EC        SATISFACAO  RENDA\n",
       "0        1      1   1  Muito Satisfeito   21.4\n",
       "1        2      1   2  Muito Satisfeito   17.2\n",
       "2        3      1   3  Muito Satisfeito   15.6"
      ]
     },
     "execution_count": 4,
     "metadata": {},
     "output_type": "execute_result"
    }
   ],
   "source": [
    "# Visualizando as primeiras linhas\n",
    "dados.head(3)"
   ]
  },
  {
   "cell_type": "code",
   "execution_count": 5,
   "metadata": {},
   "outputs": [
    {
     "data": {
      "text/plain": [
       "CLIENTE         int64\n",
       "PLANO           int64\n",
       "EC              int64\n",
       "SATISFACAO     object\n",
       "RENDA         float64\n",
       "dtype: object"
      ]
     },
     "execution_count": 5,
     "metadata": {},
     "output_type": "execute_result"
    }
   ],
   "source": [
    "dados.dtypes"
   ]
  },
  {
   "cell_type": "markdown",
   "metadata": {},
   "source": [
    "[Volta ao Índice](#indice)"
   ]
  },
  {
   "cell_type": "markdown",
   "metadata": {},
   "source": [
    "<div id=\"quali\"></div>\n",
    "\n",
    "___\n",
    "\n",
    "# Variáveis QUALITATIVAS\n",
    "\n",
    "___"
   ]
  },
  {
   "cell_type": "markdown",
   "metadata": {},
   "source": [
    "<div id=\"definindo-as-variaveis-qualitativas-como-categoricas\"></div>\n",
    "\n",
    "## Definindo as variáveis qualitativas como categóricas\n",
    "\n",
    "No [primeiro exercício](#ex1) você deve ter identificado as variáveis PLANO, EC e SATISFACAO como qualitativas (ou categóricas). O pandas não tem como saber dessa informação ao carregar os dados, então precisamos modificar as colunas explicitamente.\n",
    "\n",
    "<div id=\"astype\"></div>\n",
    "\n",
    "A função `.astype` devolve uma cópia da coluna (`Series`) convertida para o tipo desejado. Por exemplo, para transformar uma coluna em categórica devemos utilizar `.astype('category')`."
   ]
  },
  {
   "cell_type": "code",
   "execution_count": 6,
   "metadata": {},
   "outputs": [],
   "source": [
    "dados['PLANO'] = dados['PLANO'].astype('category')\n",
    "dados['EC'] = dados['EC'].astype('category')\n",
    "dados['SATISFACAO'] = dados['SATISFACAO'].astype('category')\n",
    "# A próxima linha é desnecessária, pois a coluna já era do tipo float, mas \n",
    "# queremos mostrar que é possível utilizar outros tipos.\n",
    "\n",
    "\n",
    "\n",
    "\n",
    "dados['RENDA'] = dados['RENDA'].astype('float')"
   ]
  },
  {
   "cell_type": "code",
   "execution_count": 7,
   "metadata": {},
   "outputs": [
    {
     "data": {
      "text/plain": [
       "CLIENTE          int64\n",
       "PLANO         category\n",
       "EC            category\n",
       "SATISFACAO    category\n",
       "RENDA          float64\n",
       "dtype: object"
      ]
     },
     "execution_count": 7,
     "metadata": {},
     "output_type": "execute_result"
    }
   ],
   "source": [
    "dados.dtypes"
   ]
  },
  {
   "cell_type": "code",
   "execution_count": 8,
   "metadata": {},
   "outputs": [
    {
     "data": {
      "text/plain": [
       "Index(['CLIENTE', 'PLANO', 'EC', 'SATISFACAO', 'RENDA'], dtype='object')"
      ]
     },
     "execution_count": 8,
     "metadata": {},
     "output_type": "execute_result"
    }
   ],
   "source": [
    "dados.columns"
   ]
  },
  {
   "cell_type": "code",
   "execution_count": 9,
   "metadata": {},
   "outputs": [
    {
     "data": {
      "text/plain": [
       "0     1\n",
       "1     1\n",
       "2     1\n",
       "3     1\n",
       "4     1\n",
       "     ..\n",
       "77    2\n",
       "78    2\n",
       "79    2\n",
       "80    2\n",
       "81    2\n",
       "Name: PLANO, Length: 82, dtype: category\n",
       "Categories (2, int64): [1, 2]"
      ]
     },
     "execution_count": 9,
     "metadata": {},
     "output_type": "execute_result"
    }
   ],
   "source": [
    "dados['PLANO']"
   ]
  },
  {
   "cell_type": "code",
   "execution_count": 10,
   "metadata": {},
   "outputs": [
    {
     "data": {
      "text/plain": [
       "1    46\n",
       "2    36\n",
       "Name: PLANO, dtype: int64"
      ]
     },
     "execution_count": 10,
     "metadata": {},
     "output_type": "execute_result"
    }
   ],
   "source": [
    "dados.PLANO.value_counts()\n",
    "\n",
    "\n",
    "# value_counts - Faz a contagem de cada rotúlo\n",
    "\n",
    "# Qualitativa - Explorar por meio da frequência de ocorrência"
   ]
  },
  {
   "cell_type": "code",
   "execution_count": 11,
   "metadata": {},
   "outputs": [
    {
     "data": {
      "text/html": [
       "<div>\n",
       "<style scoped>\n",
       "    .dataframe tbody tr th:only-of-type {\n",
       "        vertical-align: middle;\n",
       "    }\n",
       "\n",
       "    .dataframe tbody tr th {\n",
       "        vertical-align: top;\n",
       "    }\n",
       "\n",
       "    .dataframe thead th {\n",
       "        text-align: right;\n",
       "    }\n",
       "</style>\n",
       "<table border=\"1\" class=\"dataframe\">\n",
       "  <thead>\n",
       "    <tr style=\"text-align: right;\">\n",
       "      <th></th>\n",
       "      <th>PLANO</th>\n",
       "    </tr>\n",
       "  </thead>\n",
       "  <tbody>\n",
       "    <tr>\n",
       "      <th>1</th>\n",
       "      <td>46</td>\n",
       "    </tr>\n",
       "    <tr>\n",
       "      <th>2</th>\n",
       "      <td>36</td>\n",
       "    </tr>\n",
       "  </tbody>\n",
       "</table>\n",
       "</div>"
      ],
      "text/plain": [
       "   PLANO\n",
       "1     46\n",
       "2     36"
      ]
     },
     "execution_count": 11,
     "metadata": {},
     "output_type": "execute_result"
    }
   ],
   "source": [
    "dados.PLANO.value_counts().to_frame()"
   ]
  },
  {
   "cell_type": "code",
   "execution_count": 12,
   "metadata": {},
   "outputs": [
    {
     "data": {
      "text/html": [
       "<div>\n",
       "<style scoped>\n",
       "    .dataframe tbody tr th:only-of-type {\n",
       "        vertical-align: middle;\n",
       "    }\n",
       "\n",
       "    .dataframe tbody tr th {\n",
       "        vertical-align: top;\n",
       "    }\n",
       "\n",
       "    .dataframe thead th {\n",
       "        text-align: right;\n",
       "    }\n",
       "</style>\n",
       "<table border=\"1\" class=\"dataframe\">\n",
       "  <thead>\n",
       "    <tr style=\"text-align: right;\">\n",
       "      <th></th>\n",
       "      <th>EC</th>\n",
       "    </tr>\n",
       "  </thead>\n",
       "  <tbody>\n",
       "    <tr>\n",
       "      <th>1</th>\n",
       "      <td>36</td>\n",
       "    </tr>\n",
       "    <tr>\n",
       "      <th>2</th>\n",
       "      <td>33</td>\n",
       "    </tr>\n",
       "    <tr>\n",
       "      <th>3</th>\n",
       "      <td>13</td>\n",
       "    </tr>\n",
       "  </tbody>\n",
       "</table>\n",
       "</div>"
      ],
      "text/plain": [
       "   EC\n",
       "1  36\n",
       "2  33\n",
       "3  13"
      ]
     },
     "execution_count": 12,
     "metadata": {},
     "output_type": "execute_result"
    }
   ],
   "source": [
    "dados.EC.value_counts().to_frame()"
   ]
  },
  {
   "cell_type": "markdown",
   "metadata": {},
   "source": [
    "O uso de códigos numéricos é útil para determinadas finalidades, mas pode dificultar a compreensão. \n",
    "\n",
    "\n",
    "### Vamos substituir os códigos numéricos pelos respectivos nomes. ###\n",
    "\n",
    "<div id=\"categories\"></div>\n",
    "\n",
    "Agora que transformamos as colunas qualitativas em categóricas, podemos listar as categorias com `.cat.categories`:"
   ]
  },
  {
   "cell_type": "code",
   "execution_count": 13,
   "metadata": {},
   "outputs": [
    {
     "data": {
      "text/plain": [
       "Int64Index([1, 2], dtype='int64')"
      ]
     },
     "execution_count": 13,
     "metadata": {},
     "output_type": "execute_result"
    }
   ],
   "source": [
    "# Exemplo com a coluna PLANO\n",
    "dados['PLANO'].cat.categories\n",
    "\n",
    "# OU\n",
    "# dados.PLANO.cat.categories\n",
    "\n",
    "\n",
    "\n",
    "# dados.PLANO -> Identificando a coluna\n",
    "# dados.['PLANO']"
   ]
  },
  {
   "cell_type": "markdown",
   "metadata": {},
   "source": [
    "<div id=\"satisfacao-categoria\"></div>\n",
    "\n",
    "### Podemos substituir os códigos todos de uma vez da seguinte maneira: ###"
   ]
  },
  {
   "cell_type": "code",
   "execution_count": 14,
   "metadata": {},
   "outputs": [],
   "source": [
    "# Exemplo com a coluna PLANO\n",
    "dados['PLANO'].cat.categories = ['A', 'B']"
   ]
  },
  {
   "cell_type": "code",
   "execution_count": 15,
   "metadata": {},
   "outputs": [
    {
     "data": {
      "text/plain": [
       "Index(['A', 'B'], dtype='object')"
      ]
     },
     "execution_count": 15,
     "metadata": {},
     "output_type": "execute_result"
    }
   ],
   "source": [
    "# Visualizando o resultado\n",
    "dados['PLANO'].cat.categories"
   ]
  },
  {
   "cell_type": "code",
   "execution_count": 16,
   "metadata": {},
   "outputs": [
    {
     "data": {
      "text/html": [
       "<div>\n",
       "<style scoped>\n",
       "    .dataframe tbody tr th:only-of-type {\n",
       "        vertical-align: middle;\n",
       "    }\n",
       "\n",
       "    .dataframe tbody tr th {\n",
       "        vertical-align: top;\n",
       "    }\n",
       "\n",
       "    .dataframe thead th {\n",
       "        text-align: right;\n",
       "    }\n",
       "</style>\n",
       "<table border=\"1\" class=\"dataframe\">\n",
       "  <thead>\n",
       "    <tr style=\"text-align: right;\">\n",
       "      <th></th>\n",
       "      <th>PLANO</th>\n",
       "    </tr>\n",
       "  </thead>\n",
       "  <tbody>\n",
       "    <tr>\n",
       "      <th>A</th>\n",
       "      <td>46</td>\n",
       "    </tr>\n",
       "    <tr>\n",
       "      <th>B</th>\n",
       "      <td>36</td>\n",
       "    </tr>\n",
       "  </tbody>\n",
       "</table>\n",
       "</div>"
      ],
      "text/plain": [
       "   PLANO\n",
       "A     46\n",
       "B     36"
      ]
     },
     "execution_count": 16,
     "metadata": {},
     "output_type": "execute_result"
    }
   ],
   "source": [
    "dados.PLANO.value_counts().to_frame()"
   ]
  },
  {
   "cell_type": "markdown",
   "metadata": {},
   "source": [
    "Note que essa ação atualiza todos os valores dessa coluna no `DataFrame`:"
   ]
  },
  {
   "cell_type": "code",
   "execution_count": 17,
   "metadata": {},
   "outputs": [
    {
     "data": {
      "text/plain": [
       "0     A\n",
       "1     A\n",
       "2     A\n",
       "3     A\n",
       "4     A\n",
       "     ..\n",
       "77    B\n",
       "78    B\n",
       "79    B\n",
       "80    B\n",
       "81    B\n",
       "Name: PLANO, Length: 82, dtype: category\n",
       "Categories (2, object): ['A', 'B']"
      ]
     },
     "execution_count": 17,
     "metadata": {},
     "output_type": "execute_result"
    }
   ],
   "source": [
    "dados['PLANO']"
   ]
  },
  {
   "cell_type": "code",
   "execution_count": 18,
   "metadata": {},
   "outputs": [
    {
     "data": {
      "text/html": [
       "<div>\n",
       "<style scoped>\n",
       "    .dataframe tbody tr th:only-of-type {\n",
       "        vertical-align: middle;\n",
       "    }\n",
       "\n",
       "    .dataframe tbody tr th {\n",
       "        vertical-align: top;\n",
       "    }\n",
       "\n",
       "    .dataframe thead th {\n",
       "        text-align: right;\n",
       "    }\n",
       "</style>\n",
       "<table border=\"1\" class=\"dataframe\">\n",
       "  <thead>\n",
       "    <tr style=\"text-align: right;\">\n",
       "      <th></th>\n",
       "      <th>CLIENTE</th>\n",
       "      <th>PLANO</th>\n",
       "      <th>EC</th>\n",
       "      <th>SATISFACAO</th>\n",
       "      <th>RENDA</th>\n",
       "    </tr>\n",
       "  </thead>\n",
       "  <tbody>\n",
       "    <tr>\n",
       "      <th>77</th>\n",
       "      <td>78</td>\n",
       "      <td>B</td>\n",
       "      <td>3</td>\n",
       "      <td>Insatisfeito</td>\n",
       "      <td>4.3</td>\n",
       "    </tr>\n",
       "    <tr>\n",
       "      <th>78</th>\n",
       "      <td>79</td>\n",
       "      <td>B</td>\n",
       "      <td>2</td>\n",
       "      <td>Insatisfeito</td>\n",
       "      <td>5.7</td>\n",
       "    </tr>\n",
       "    <tr>\n",
       "      <th>79</th>\n",
       "      <td>80</td>\n",
       "      <td>B</td>\n",
       "      <td>1</td>\n",
       "      <td>Insatisfeito</td>\n",
       "      <td>4.0</td>\n",
       "    </tr>\n",
       "    <tr>\n",
       "      <th>80</th>\n",
       "      <td>81</td>\n",
       "      <td>B</td>\n",
       "      <td>3</td>\n",
       "      <td>Insatisfeito</td>\n",
       "      <td>5.4</td>\n",
       "    </tr>\n",
       "    <tr>\n",
       "      <th>81</th>\n",
       "      <td>82</td>\n",
       "      <td>B</td>\n",
       "      <td>1</td>\n",
       "      <td>Muito Insatisfeito</td>\n",
       "      <td>0.6</td>\n",
       "    </tr>\n",
       "  </tbody>\n",
       "</table>\n",
       "</div>"
      ],
      "text/plain": [
       "    CLIENTE PLANO EC          SATISFACAO  RENDA\n",
       "77       78     B  3        Insatisfeito    4.3\n",
       "78       79     B  2        Insatisfeito    5.7\n",
       "79       80     B  1        Insatisfeito    4.0\n",
       "80       81     B  3        Insatisfeito    5.4\n",
       "81       82     B  1  Muito Insatisfeito    0.6"
      ]
     },
     "execution_count": 18,
     "metadata": {},
     "output_type": "execute_result"
    }
   ],
   "source": [
    "dados.tail()"
   ]
  },
  {
   "cell_type": "code",
   "execution_count": 19,
   "metadata": {},
   "outputs": [
    {
     "data": {
      "text/html": [
       "<div>\n",
       "<style scoped>\n",
       "    .dataframe tbody tr th:only-of-type {\n",
       "        vertical-align: middle;\n",
       "    }\n",
       "\n",
       "    .dataframe tbody tr th {\n",
       "        vertical-align: top;\n",
       "    }\n",
       "\n",
       "    .dataframe thead th {\n",
       "        text-align: right;\n",
       "    }\n",
       "</style>\n",
       "<table border=\"1\" class=\"dataframe\">\n",
       "  <thead>\n",
       "    <tr style=\"text-align: right;\">\n",
       "      <th></th>\n",
       "      <th>CLIENTE</th>\n",
       "      <th>PLANO</th>\n",
       "      <th>EC</th>\n",
       "      <th>SATISFACAO</th>\n",
       "      <th>RENDA</th>\n",
       "    </tr>\n",
       "  </thead>\n",
       "  <tbody>\n",
       "    <tr>\n",
       "      <th>0</th>\n",
       "      <td>1</td>\n",
       "      <td>A</td>\n",
       "      <td>1</td>\n",
       "      <td>Muito Satisfeito</td>\n",
       "      <td>21.4</td>\n",
       "    </tr>\n",
       "    <tr>\n",
       "      <th>1</th>\n",
       "      <td>2</td>\n",
       "      <td>A</td>\n",
       "      <td>2</td>\n",
       "      <td>Muito Satisfeito</td>\n",
       "      <td>17.2</td>\n",
       "    </tr>\n",
       "    <tr>\n",
       "      <th>2</th>\n",
       "      <td>3</td>\n",
       "      <td>A</td>\n",
       "      <td>3</td>\n",
       "      <td>Muito Satisfeito</td>\n",
       "      <td>15.6</td>\n",
       "    </tr>\n",
       "    <tr>\n",
       "      <th>3</th>\n",
       "      <td>4</td>\n",
       "      <td>A</td>\n",
       "      <td>1</td>\n",
       "      <td>Satisfeito</td>\n",
       "      <td>10.4</td>\n",
       "    </tr>\n",
       "    <tr>\n",
       "      <th>4</th>\n",
       "      <td>5</td>\n",
       "      <td>A</td>\n",
       "      <td>2</td>\n",
       "      <td>Muito Satisfeito</td>\n",
       "      <td>17.6</td>\n",
       "    </tr>\n",
       "  </tbody>\n",
       "</table>\n",
       "</div>"
      ],
      "text/plain": [
       "   CLIENTE PLANO EC        SATISFACAO  RENDA\n",
       "0        1     A  1  Muito Satisfeito   21.4\n",
       "1        2     A  2  Muito Satisfeito   17.2\n",
       "2        3     A  3  Muito Satisfeito   15.6\n",
       "3        4     A  1        Satisfeito   10.4\n",
       "4        5     A  2  Muito Satisfeito   17.6"
      ]
     },
     "execution_count": 19,
     "metadata": {},
     "output_type": "execute_result"
    }
   ],
   "source": [
    "dados.head()"
   ]
  },
  {
   "cell_type": "markdown",
   "metadata": {},
   "source": [
    "**Aplicação:** Faça o mesmo para a coluna `EC`:"
   ]
  },
  {
   "cell_type": "code",
   "execution_count": 20,
   "metadata": {},
   "outputs": [
    {
     "data": {
      "text/html": [
       "<div>\n",
       "<style scoped>\n",
       "    .dataframe tbody tr th:only-of-type {\n",
       "        vertical-align: middle;\n",
       "    }\n",
       "\n",
       "    .dataframe tbody tr th {\n",
       "        vertical-align: top;\n",
       "    }\n",
       "\n",
       "    .dataframe thead th {\n",
       "        text-align: right;\n",
       "    }\n",
       "</style>\n",
       "<table border=\"1\" class=\"dataframe\">\n",
       "  <thead>\n",
       "    <tr style=\"text-align: right;\">\n",
       "      <th></th>\n",
       "      <th>EC</th>\n",
       "    </tr>\n",
       "  </thead>\n",
       "  <tbody>\n",
       "    <tr>\n",
       "      <th>0</th>\n",
       "      <td>Casado</td>\n",
       "    </tr>\n",
       "    <tr>\n",
       "      <th>1</th>\n",
       "      <td>Solteiro</td>\n",
       "    </tr>\n",
       "    <tr>\n",
       "      <th>2</th>\n",
       "      <td>Outros</td>\n",
       "    </tr>\n",
       "    <tr>\n",
       "      <th>3</th>\n",
       "      <td>Casado</td>\n",
       "    </tr>\n",
       "    <tr>\n",
       "      <th>4</th>\n",
       "      <td>Solteiro</td>\n",
       "    </tr>\n",
       "    <tr>\n",
       "      <th>...</th>\n",
       "      <td>...</td>\n",
       "    </tr>\n",
       "    <tr>\n",
       "      <th>77</th>\n",
       "      <td>Outros</td>\n",
       "    </tr>\n",
       "    <tr>\n",
       "      <th>78</th>\n",
       "      <td>Solteiro</td>\n",
       "    </tr>\n",
       "    <tr>\n",
       "      <th>79</th>\n",
       "      <td>Casado</td>\n",
       "    </tr>\n",
       "    <tr>\n",
       "      <th>80</th>\n",
       "      <td>Outros</td>\n",
       "    </tr>\n",
       "    <tr>\n",
       "      <th>81</th>\n",
       "      <td>Casado</td>\n",
       "    </tr>\n",
       "  </tbody>\n",
       "</table>\n",
       "<p>82 rows × 1 columns</p>\n",
       "</div>"
      ],
      "text/plain": [
       "          EC\n",
       "0     Casado\n",
       "1   Solteiro\n",
       "2     Outros\n",
       "3     Casado\n",
       "4   Solteiro\n",
       "..       ...\n",
       "77    Outros\n",
       "78  Solteiro\n",
       "79    Casado\n",
       "80    Outros\n",
       "81    Casado\n",
       "\n",
       "[82 rows x 1 columns]"
      ]
     },
     "execution_count": 20,
     "metadata": {},
     "output_type": "execute_result"
    }
   ],
   "source": [
    "# ESCREVA SEU CODIGO AQUI\n",
    "\n",
    "dados['EC'].cat.categories = ['Casado', 'Solteiro', 'Outros'] #substitiu as categorias do Estado Civil\n",
    "dados['EC'].to_frame()"
   ]
  },
  {
   "cell_type": "markdown",
   "metadata": {},
   "source": [
    "[Volta ao Índice](#indice)"
   ]
  },
  {
   "cell_type": "markdown",
   "metadata": {},
   "source": [
    "---\n",
    "\n",
    "<div id=\"ordered\"></div>\n",
    "\n",
    "## Nominal versus ordinal\n",
    "\n",
    "Já definimos que as variáveis PLANO, EC e SATISFACAO são categóricas ou qualitativas. Porém, como definir no Pandas se essas variáveis são nominais (onde não existe uma ordenação natural) ou ordinais (em que existe ordenação)?\n",
    "\n",
    "A informação de que uma variável categórica deve ser nominal ou ordinal está no atributo `.cat.ordered` da variável. \n",
    "\n",
    "\n",
    "\n",
    "Por padrão,\n",
    "\n",
    "### Quando definimos que uma variável é categórica o Pandas supõe que seja nominal (sem ordem)\n",
    "\n",
    "\n",
    "\n",
    "Confira:"
   ]
  },
  {
   "cell_type": "code",
   "execution_count": 21,
   "metadata": {},
   "outputs": [
    {
     "data": {
      "text/plain": [
       "False"
      ]
     },
     "execution_count": 21,
     "metadata": {},
     "output_type": "execute_result"
    }
   ],
   "source": [
    "dados['PLANO'].cat.ordered"
   ]
  },
  {
   "cell_type": "code",
   "execution_count": 22,
   "metadata": {},
   "outputs": [
    {
     "data": {
      "text/plain": [
       "False"
      ]
     },
     "execution_count": 22,
     "metadata": {},
     "output_type": "execute_result"
    }
   ],
   "source": [
    "dados['EC'].cat.ordered"
   ]
  },
  {
   "cell_type": "code",
   "execution_count": 23,
   "metadata": {},
   "outputs": [
    {
     "data": {
      "text/plain": [
       "False"
      ]
     },
     "execution_count": 23,
     "metadata": {},
     "output_type": "execute_result"
    }
   ],
   "source": [
    "dados['SATISFACAO'].cat.ordered"
   ]
  },
  {
   "cell_type": "code",
   "execution_count": 24,
   "metadata": {},
   "outputs": [
    {
     "data": {
      "text/plain": [
       "0       Muito Satisfeito\n",
       "1       Muito Satisfeito\n",
       "2       Muito Satisfeito\n",
       "3             Satisfeito\n",
       "4       Muito Satisfeito\n",
       "             ...        \n",
       "77          Insatisfeito\n",
       "78          Insatisfeito\n",
       "79          Insatisfeito\n",
       "80          Insatisfeito\n",
       "81    Muito Insatisfeito\n",
       "Name: SATISFACAO, Length: 82, dtype: category\n",
       "Categories (5, object): ['Indiferente', 'Insatisfeito', 'Muito Insatisfeito', 'Muito Satisfeito', 'Satisfeito']"
      ]
     },
     "execution_count": 24,
     "metadata": {},
     "output_type": "execute_result"
    }
   ],
   "source": [
    "dados['SATISFACAO']"
   ]
  },
  {
   "cell_type": "markdown",
   "metadata": {},
   "source": [
    "Contudo, a variável SATISFACAO é ordinal! \n",
    "\n",
    "\n",
    "### Para converter esta variável de nominal para ordinal devemos usar o comando `pd.Categorical()`:"
   ]
  },
  {
   "cell_type": "code",
   "execution_count": 25,
   "metadata": {},
   "outputs": [],
   "source": [
    "dados['SATISFACAO'] = pd.Categorical(dados.SATISFACAO, \n",
    "                                     categories = ['Muito Insatisfeito', 'Insatisfeito', 'Indiferente', \n",
    "                                                   'Satisfeito', 'Muito Satisfeito'], \n",
    "                                     ordered=True)"
   ]
  },
  {
   "cell_type": "code",
   "execution_count": 26,
   "metadata": {},
   "outputs": [
    {
     "data": {
      "text/plain": [
       "True"
      ]
     },
     "execution_count": 26,
     "metadata": {},
     "output_type": "execute_result"
    }
   ],
   "source": [
    "dados['SATISFACAO'].cat.ordered"
   ]
  },
  {
   "cell_type": "code",
   "execution_count": 27,
   "metadata": {},
   "outputs": [
    {
     "data": {
      "text/plain": [
       "0       Muito Satisfeito\n",
       "1       Muito Satisfeito\n",
       "2       Muito Satisfeito\n",
       "3             Satisfeito\n",
       "4       Muito Satisfeito\n",
       "             ...        \n",
       "77          Insatisfeito\n",
       "78          Insatisfeito\n",
       "79          Insatisfeito\n",
       "80          Insatisfeito\n",
       "81    Muito Insatisfeito\n",
       "Name: SATISFACAO, Length: 82, dtype: category\n",
       "Categories (5, object): ['Muito Insatisfeito' < 'Insatisfeito' < 'Indiferente' < 'Satisfeito' < 'Muito Satisfeito']"
      ]
     },
     "execution_count": 27,
     "metadata": {},
     "output_type": "execute_result"
    }
   ],
   "source": [
    "dados['SATISFACAO']"
   ]
  },
  {
   "cell_type": "markdown",
   "metadata": {},
   "source": [
    "Observe que agora o relatório informa que 'Muito insatisfeito' vem antes de 'Insatisfeito', etc."
   ]
  },
  {
   "cell_type": "markdown",
   "metadata": {},
   "source": [
    "[Volta ao Índice](#indice)"
   ]
  },
  {
   "cell_type": "markdown",
   "metadata": {},
   "source": [
    "<div id=\"tab-freq-quali\"></div>\n",
    "\n",
    "___\n",
    "## Tabelas de frequências - Variáveis Qualitativas\n",
    "\n",
    "Agora estamos prontos para começar nossa análise.\n",
    "\n",
    "\n",
    "Uma primeira pergunta que podemos nos fazer é: dos 82 clientes selecionados, quantos aderiram ao plano A e quantos aderiram ao plano B?\n",
    "\n",
    "### Para isso podemos utilizar uma tabela de frequências.\n",
    "\n",
    "<div id=\"value_counts\"></div>\n",
    "\n",
    "### *A função `.value_counts` pode ser utilizada para montar a tabela de frequências **de uma coluna**."
   ]
  },
  {
   "cell_type": "code",
   "execution_count": 28,
   "metadata": {},
   "outputs": [
    {
     "data": {
      "text/html": [
       "<div>\n",
       "<style scoped>\n",
       "    .dataframe tbody tr th:only-of-type {\n",
       "        vertical-align: middle;\n",
       "    }\n",
       "\n",
       "    .dataframe tbody tr th {\n",
       "        vertical-align: top;\n",
       "    }\n",
       "\n",
       "    .dataframe thead th {\n",
       "        text-align: right;\n",
       "    }\n",
       "</style>\n",
       "<table border=\"1\" class=\"dataframe\">\n",
       "  <thead>\n",
       "    <tr style=\"text-align: right;\">\n",
       "      <th></th>\n",
       "      <th>PLANO</th>\n",
       "    </tr>\n",
       "  </thead>\n",
       "  <tbody>\n",
       "    <tr>\n",
       "      <th>A</th>\n",
       "      <td>46</td>\n",
       "    </tr>\n",
       "    <tr>\n",
       "      <th>B</th>\n",
       "      <td>36</td>\n",
       "    </tr>\n",
       "  </tbody>\n",
       "</table>\n",
       "</div>"
      ],
      "text/plain": [
       "   PLANO\n",
       "A     46\n",
       "B     36"
      ]
     },
     "execution_count": 28,
     "metadata": {},
     "output_type": "execute_result"
    }
   ],
   "source": [
    "dados['PLANO'].value_counts().to_frame()"
   ]
  },
  {
   "cell_type": "markdown",
   "metadata": {},
   "source": [
    "<div id=\"ex2\"></div>\n",
    "\n",
    "### EXERCÍCIO 2:\n",
    "\n",
    "Na célula acima obtivemos a tabela de frequências absoluta. Pesquise na documentação da função `value_counts` (deve ser o primeiro resultado ao buscar por \"pandas value_counts\" em sua engine de busca de preferência)\n",
    "\n",
    "\n",
    "### Como obter a tabela de frequências relativas.\n",
    "\n",
    "**DICA:** Não feche a documentação da função `value_counts`. Você ainda vai precisar dela."
   ]
  },
  {
   "cell_type": "code",
   "execution_count": 29,
   "metadata": {},
   "outputs": [
    {
     "data": {
      "text/plain": [
       "A    0.560976\n",
       "B    0.439024\n",
       "Name: PLANO, dtype: float64"
      ]
     },
     "execution_count": 29,
     "metadata": {},
     "output_type": "execute_result"
    }
   ],
   "source": [
    "# ESCREVA SEU CODIGO AQUI\n",
    "\n",
    "dados['PLANO'].value_counts(normalize = True)\n",
    "\n",
    "\n",
    "# Series.value_counts(normalize=False, sort=True, ascending=False, bins=None, dropna=True)[source]¶\n",
    "\n",
    "\n",
    "# O objeto resultante estará em ordem decrescente para que o primeiro elemento seja o elemento que ocorre com mais frequência. \n",
    "# ascending - Crescente\n",
    "\n",
    "\n",
    "# (normalize = True) -> Retorna a frequência relativa dividindo todos os valores pela soma dos valores.\n"
   ]
  },
  {
   "cell_type": "markdown",
   "metadata": {},
   "source": [
    "[Volta ao Índice](#indice)"
   ]
  },
  {
   "cell_type": "markdown",
   "metadata": {},
   "source": [
    "...\n",
    "\n",
    "Queremos saber quantos clientes se enquadram em cada um dos graus de satisfação. Já sabemos que podemos utilizar a função `value_counts`:"
   ]
  },
  {
   "cell_type": "code",
   "execution_count": 30,
   "metadata": {
    "scrolled": false
   },
   "outputs": [
    {
     "data": {
      "text/plain": [
       "Satisfeito            27\n",
       "Indiferente           19\n",
       "Insatisfeito          16\n",
       "Muito Satisfeito      12\n",
       "Muito Insatisfeito     8\n",
       "Name: SATISFACAO, dtype: int64"
      ]
     },
     "execution_count": 30,
     "metadata": {},
     "output_type": "execute_result"
    }
   ],
   "source": [
    "dados['SATISFACAO'].value_counts()"
   ]
  },
  {
   "cell_type": "markdown",
   "metadata": {},
   "source": [
    "## A seguir, algumas maneiras para obter index (rótulo das linhas) de uma tabela:"
   ]
  },
  {
   "cell_type": "code",
   "execution_count": 31,
   "metadata": {
    "scrolled": true
   },
   "outputs": [
    {
     "data": {
      "text/plain": [
       "['Satisfeito', 'Indiferente', 'Insatisfeito', 'Muito Satisfeito', 'Muito Insatisfeito']\n",
       "Categories (5, object): ['Muito Insatisfeito' < 'Insatisfeito' < 'Indiferente' < 'Satisfeito' < 'Muito Satisfeito']"
      ]
     },
     "execution_count": 31,
     "metadata": {},
     "output_type": "execute_result"
    }
   ],
   "source": [
    "dados['SATISFACAO'].value_counts().index.values\n",
    "\n",
    "\n",
    "# índice das linhas"
   ]
  },
  {
   "cell_type": "code",
   "execution_count": 32,
   "metadata": {
    "scrolled": false
   },
   "outputs": [
    {
     "data": {
      "text/plain": [
       "CategoricalIndex(['Satisfeito', 'Indiferente', 'Insatisfeito',\n",
       "                  'Muito Satisfeito', 'Muito Insatisfeito'],\n",
       "                 categories=['Muito Insatisfeito', 'Insatisfeito', 'Indiferente', 'Satisfeito', 'Muito Satisfeito'], ordered=True, dtype='category')"
      ]
     },
     "execution_count": 32,
     "metadata": {},
     "output_type": "execute_result"
    }
   ],
   "source": [
    "dados['SATISFACAO'].value_counts().keys()\n",
    "\n",
    "# Pegando a chave do dicionarip que forma a DataFrame"
   ]
  },
  {
   "cell_type": "markdown",
   "metadata": {},
   "source": [
    "**Aqui, algumas maneiras para obter o index e as frequências de uma tabela:**"
   ]
  },
  {
   "cell_type": "code",
   "execution_count": 33,
   "metadata": {},
   "outputs": [
    {
     "data": {
      "text/plain": [
       "Muito Insatisfeito     8\n",
       "Insatisfeito          16\n",
       "Indiferente           19\n",
       "Satisfeito            27\n",
       "Muito Satisfeito      12\n",
       "Name: SATISFACAO, dtype: int64"
      ]
     },
     "execution_count": 33,
     "metadata": {},
     "output_type": "execute_result"
    }
   ],
   "source": [
    "tab = dados['SATISFACAO'].value_counts(sort = False)\n",
    "tab\n",
    "\n",
    "# sort - Ordenar"
   ]
  },
  {
   "cell_type": "code",
   "execution_count": 34,
   "metadata": {},
   "outputs": [
    {
     "data": {
      "text/plain": [
       "Satisfeito            27\n",
       "Indiferente           19\n",
       "Insatisfeito          16\n",
       "Muito Satisfeito      12\n",
       "Muito Insatisfeito     8\n",
       "Name: SATISFACAO, dtype: int64"
      ]
     },
     "execution_count": 34,
     "metadata": {},
     "output_type": "execute_result"
    }
   ],
   "source": [
    "dados['SATISFACAO'].value_counts()"
   ]
  },
  {
   "cell_type": "code",
   "execution_count": 35,
   "metadata": {},
   "outputs": [
    {
     "data": {
      "text/plain": [
       "Muito Insatisfeito     8\n",
       "Muito Satisfeito      12\n",
       "Insatisfeito          16\n",
       "Indiferente           19\n",
       "Satisfeito            27\n",
       "Name: SATISFACAO, dtype: int64"
      ]
     },
     "execution_count": 35,
     "metadata": {},
     "output_type": "execute_result"
    }
   ],
   "source": [
    "dados['SATISFACAO'].value_counts(ascending = True)\n",
    "\n",
    "# asceding = True : Ordem cresecnte\n",
    "# Series.value_counts(normalize=False, sort=True, ascending=False, bins=None, dropna=True)[source]¶"
   ]
  },
  {
   "cell_type": "code",
   "execution_count": 36,
   "metadata": {
    "scrolled": true
   },
   "outputs": [
    {
     "data": {
      "text/plain": [
       "['Muito Insatisfeito',\n",
       " 'Insatisfeito',\n",
       " 'Indiferente',\n",
       " 'Satisfeito',\n",
       " 'Muito Satisfeito']"
      ]
     },
     "execution_count": 36,
     "metadata": {},
     "output_type": "execute_result"
    }
   ],
   "source": [
    "list(tab.index)"
   ]
  },
  {
   "cell_type": "code",
   "execution_count": 37,
   "metadata": {},
   "outputs": [
    {
     "data": {
      "text/plain": [
       "[8, 16, 19, 27, 12]"
      ]
     },
     "execution_count": 37,
     "metadata": {},
     "output_type": "execute_result"
    }
   ],
   "source": [
    "list(tab.values)"
   ]
  },
  {
   "cell_type": "code",
   "execution_count": 38,
   "metadata": {},
   "outputs": [
    {
     "data": {
      "text/plain": [
       "[('Muito Insatisfeito', 8),\n",
       " ('Insatisfeito', 16),\n",
       " ('Indiferente', 19),\n",
       " ('Satisfeito', 27),\n",
       " ('Muito Satisfeito', 12)]"
      ]
     },
     "execution_count": 38,
     "metadata": {},
     "output_type": "execute_result"
    }
   ],
   "source": [
    "list(tab.iteritems())\n",
    "\n",
    "# Itera sobre as colunas DataFrame, retornando uma tupla com o nome da coluna e o conteúdo como uma série.\n",
    "\n",
    "\n"
   ]
  },
  {
   "cell_type": "code",
   "execution_count": 39,
   "metadata": {
    "scrolled": true
   },
   "outputs": [
    {
     "name": "stdout",
     "output_type": "stream",
     "text": [
      "Categoria Muito Insatisfeito foi encontrada 8 vezes\n",
      "Categoria Insatisfeito foi encontrada 16 vezes\n",
      "Categoria Indiferente foi encontrada 19 vezes\n",
      "Categoria Satisfeito foi encontrada 27 vezes\n",
      "Categoria Muito Satisfeito foi encontrada 12 vezes\n"
     ]
    }
   ],
   "source": [
    "for val, contagem in tab.iteritems():\n",
    "    print(f'Categoria {val} foi encontrada {contagem} vezes')"
   ]
  },
  {
   "cell_type": "markdown",
   "metadata": {},
   "source": [
    "**Ver este [link](https://stackoverflow.com/questions/36973387/accessing-first-column-of-pandas-value-counts) para mais detalhes, por exemplo**"
   ]
  },
  {
   "cell_type": "markdown",
   "metadata": {},
   "source": [
    "[Volta ao Índice](#indice)"
   ]
  },
  {
   "cell_type": "markdown",
   "metadata": {},
   "source": [
    "<div id=\"ex3\"></div>\n",
    "\n",
    "### EXERCÍCIO 3:\n",
    "\n",
    "A tabela de frequências absolutas acima nos dá a informação que precisamos, mas a ordem dos graus de satisfação dificulta a compreensão. Procure na documentação:\n",
    "\n",
    "1. Por que a tabela foi apresentada nessa ordem;\n",
    "1. Como fazer para não utilizar essa ordem (e utilizar a [ordem definida nas categorias](#satisfacao-categoria));\n",
    "1. Escreva na célula abaixo o código que mostra a tabela de frequências **relativas** na ordem desejada."
   ]
  },
  {
   "cell_type": "code",
   "execution_count": 40,
   "metadata": {},
   "outputs": [
    {
     "data": {
      "text/plain": [
       "Muito Insatisfeito    0.097561\n",
       "Insatisfeito          0.195122\n",
       "Indiferente           0.231707\n",
       "Satisfeito            0.329268\n",
       "Muito Satisfeito      0.146341\n",
       "Name: SATISFACAO, dtype: float64"
      ]
     },
     "execution_count": 40,
     "metadata": {},
     "output_type": "execute_result"
    }
   ],
   "source": [
    "# ESCREVA SEU CODIGO AQUI\n",
    "\n",
    "dados['SATISFACAO'].value_counts(normalize = True, sort = False)\n",
    "\n",
    "# sort = True\n",
    "# combinado com ascending = True -> Cresecente\n",
    "#               ascending = False -> Descresente                         \n"
   ]
  },
  {
   "cell_type": "markdown",
   "metadata": {},
   "source": [
    "[Volta ao Índice](#indice)"
   ]
  },
  {
   "cell_type": "markdown",
   "metadata": {},
   "source": [
    "<div id=\"tabelas-cruzadas-entre-variaveis-qualitativas\"></div>\n",
    "\n",
    "___\n",
    "## Tabelas cruzadas entre variáveis qualitativas\n",
    "\n",
    "Nas tabelas de frequência já vimos quantos clientes aderiram a cada plano e quantos estão em cada grau de satisfação. Mas, lembrando do propósito inicial, a empresa quer estudar o perfil dos clientes de cada plano e, até agora, não adicionamos nenhum conhecimento novo.\n",
    "\n",
    "Vamos mudar isso tentando responder a seguinte pergunta: como a satisfação dos clientes do plano A se compara à dos clientes do plano B?\n",
    "\n",
    "<div id=\"crosstab\"></div>\n",
    "\n",
    "### Podemos montar uma tabela cruzada de plano versus satisfação com a função `pd.crosstab`:"
   ]
  },
  {
   "cell_type": "code",
   "execution_count": 41,
   "metadata": {},
   "outputs": [
    {
     "data": {
      "text/html": [
       "<div>\n",
       "<style scoped>\n",
       "    .dataframe tbody tr th:only-of-type {\n",
       "        vertical-align: middle;\n",
       "    }\n",
       "\n",
       "    .dataframe tbody tr th {\n",
       "        vertical-align: top;\n",
       "    }\n",
       "\n",
       "    .dataframe thead th {\n",
       "        text-align: right;\n",
       "    }\n",
       "</style>\n",
       "<table border=\"1\" class=\"dataframe\">\n",
       "  <thead>\n",
       "    <tr style=\"text-align: right;\">\n",
       "      <th>SATISFACAO</th>\n",
       "      <th>Muito Insatisfeito</th>\n",
       "      <th>Insatisfeito</th>\n",
       "      <th>Indiferente</th>\n",
       "      <th>Satisfeito</th>\n",
       "      <th>Muito Satisfeito</th>\n",
       "    </tr>\n",
       "    <tr>\n",
       "      <th>PLANO</th>\n",
       "      <th></th>\n",
       "      <th></th>\n",
       "      <th></th>\n",
       "      <th></th>\n",
       "      <th></th>\n",
       "    </tr>\n",
       "  </thead>\n",
       "  <tbody>\n",
       "    <tr>\n",
       "      <th>A</th>\n",
       "      <td>2</td>\n",
       "      <td>5</td>\n",
       "      <td>7</td>\n",
       "      <td>20</td>\n",
       "      <td>12</td>\n",
       "    </tr>\n",
       "    <tr>\n",
       "      <th>B</th>\n",
       "      <td>6</td>\n",
       "      <td>11</td>\n",
       "      <td>12</td>\n",
       "      <td>7</td>\n",
       "      <td>0</td>\n",
       "    </tr>\n",
       "  </tbody>\n",
       "</table>\n",
       "</div>"
      ],
      "text/plain": [
       "SATISFACAO  Muito Insatisfeito  Insatisfeito  Indiferente  Satisfeito  \\\n",
       "PLANO                                                                   \n",
       "A                            2             5            7          20   \n",
       "B                            6            11           12           7   \n",
       "\n",
       "SATISFACAO  Muito Satisfeito  \n",
       "PLANO                         \n",
       "A                         12  \n",
       "B                          0  "
      ]
     },
     "execution_count": 41,
     "metadata": {},
     "output_type": "execute_result"
    }
   ],
   "source": [
    "pd.crosstab(dados['PLANO'], dados['SATISFACAO'])\n",
    "\n",
    "# Calcule uma tabulação cruzada simples de dois (ou mais) fatores. \n",
    "# Por padrão, calcula uma tabela de frequência dos fatores, a menos que uma matriz de valores e uma função de agregação sejam passadas."
   ]
  },
  {
   "cell_type": "code",
   "execution_count": 42,
   "metadata": {},
   "outputs": [
    {
     "data": {
      "text/plain": [
       "0     A\n",
       "1     A\n",
       "2     A\n",
       "3     A\n",
       "4     A\n",
       "     ..\n",
       "77    B\n",
       "78    B\n",
       "79    B\n",
       "80    B\n",
       "81    B\n",
       "Name: PLANO, Length: 82, dtype: category\n",
       "Categories (2, object): ['A', 'B']"
      ]
     },
     "execution_count": 42,
     "metadata": {},
     "output_type": "execute_result"
    }
   ],
   "source": [
    "dados['PLANO']"
   ]
  },
  {
   "cell_type": "markdown",
   "metadata": {},
   "source": [
    "<div id=\"ex4\"></div>\n",
    "\n",
    "### EXERCÍCIO 4\n",
    "\n",
    "Sabemos que a quantidade de clientes em cada plano na nossa amostra é diferente. Por esse motivo, não podemos comparar os valores absolutos. Procure a documentação da função `pd.crosstab` (busque por \"pandas crosstab\") e crie uma nova tabela cruzada:\n",
    "\n",
    "- Que apresente as frequências relativas ao invés de absolutas para cada plano (ou seja, do total de clientes do plano A, qual é a frequência relativa de muito insatisfeitos, insatisfeitos, etc. e para o plano B?);\n",
    "- Armazene o resultado em uma variável chamada `plano_x_satisfacao` (é importante que você utilize exatamente esse nome para que as próximas células funcionem)."
   ]
  },
  {
   "cell_type": "code",
   "execution_count": 43,
   "metadata": {
    "scrolled": true
   },
   "outputs": [
    {
     "data": {
      "text/html": [
       "<div>\n",
       "<style scoped>\n",
       "    .dataframe tbody tr th:only-of-type {\n",
       "        vertical-align: middle;\n",
       "    }\n",
       "\n",
       "    .dataframe tbody tr th {\n",
       "        vertical-align: top;\n",
       "    }\n",
       "\n",
       "    .dataframe thead th {\n",
       "        text-align: right;\n",
       "    }\n",
       "</style>\n",
       "<table border=\"1\" class=\"dataframe\">\n",
       "  <thead>\n",
       "    <tr style=\"text-align: right;\">\n",
       "      <th>SATISFACAO</th>\n",
       "      <th>Muito Insatisfeito</th>\n",
       "      <th>Insatisfeito</th>\n",
       "      <th>Indiferente</th>\n",
       "      <th>Satisfeito</th>\n",
       "      <th>Muito Satisfeito</th>\n",
       "      <th>All</th>\n",
       "    </tr>\n",
       "    <tr>\n",
       "      <th>PLANO</th>\n",
       "      <th></th>\n",
       "      <th></th>\n",
       "      <th></th>\n",
       "      <th></th>\n",
       "      <th></th>\n",
       "      <th></th>\n",
       "    </tr>\n",
       "  </thead>\n",
       "  <tbody>\n",
       "    <tr>\n",
       "      <th>A</th>\n",
       "      <td>0.0244</td>\n",
       "      <td>0.0610</td>\n",
       "      <td>0.0854</td>\n",
       "      <td>0.2439</td>\n",
       "      <td>0.1463</td>\n",
       "      <td>0.561</td>\n",
       "    </tr>\n",
       "    <tr>\n",
       "      <th>B</th>\n",
       "      <td>0.0732</td>\n",
       "      <td>0.1341</td>\n",
       "      <td>0.1463</td>\n",
       "      <td>0.0854</td>\n",
       "      <td>0.0000</td>\n",
       "      <td>0.439</td>\n",
       "    </tr>\n",
       "    <tr>\n",
       "      <th>All</th>\n",
       "      <td>0.0976</td>\n",
       "      <td>0.1951</td>\n",
       "      <td>0.2317</td>\n",
       "      <td>0.3293</td>\n",
       "      <td>0.1463</td>\n",
       "      <td>1.000</td>\n",
       "    </tr>\n",
       "  </tbody>\n",
       "</table>\n",
       "</div>"
      ],
      "text/plain": [
       "SATISFACAO  Muito Insatisfeito  Insatisfeito  Indiferente  Satisfeito  \\\n",
       "PLANO                                                                   \n",
       "A                       0.0244        0.0610       0.0854      0.2439   \n",
       "B                       0.0732        0.1341       0.1463      0.0854   \n",
       "All                     0.0976        0.1951       0.2317      0.3293   \n",
       "\n",
       "SATISFACAO  Muito Satisfeito    All  \n",
       "PLANO                                \n",
       "A                     0.1463  0.561  \n",
       "B                     0.0000  0.439  \n",
       "All                   0.1463  1.000  "
      ]
     },
     "execution_count": 43,
     "metadata": {},
     "output_type": "execute_result"
    }
   ],
   "source": [
    "# ESCREVA SEU CODIGO AQUI\n",
    "\n",
    "# pandas.crosstab( índice , colunas , valores = Nenhum , rownames = Nenhum , colnames = Nenhum , aggfunc = Nenhum , margins = False , margins_name = 'All' , dropna = True , normalize = False )[fonte]¶\n",
    "\n",
    "\n",
    "# Cruzamento de dados\n",
    "pd.crosstab(dados['PLANO'], dados['SATISFACAO'],normalize = True, margins = True).round(4)\n",
    "\n",
    "# round(4) -> 4 casas decimais\n",
    "\n",
    "\n",
    "# (normalize = True) -> Retorna a frequência relativa dividindo todos os valores pela soma dos valores.\n",
    "# margins = True -> Adiciona margens de linha / coluna (subtotais).-> All"
   ]
  },
  {
   "cell_type": "code",
   "execution_count": 44,
   "metadata": {},
   "outputs": [
    {
     "data": {
      "text/plain": [
       "Muito Insatisfeito    0.097561\n",
       "Insatisfeito          0.195122\n",
       "Indiferente           0.231707\n",
       "Satisfeito            0.329268\n",
       "Muito Satisfeito      0.146341\n",
       "Name: SATISFACAO, dtype: float64"
      ]
     },
     "execution_count": 44,
     "metadata": {},
     "output_type": "execute_result"
    }
   ],
   "source": [
    "plano_x_satisfacao = dados['SATISFACAO'].value_counts(normalize = True, sort = False)\n",
    "plano_x_satisfacao"
   ]
  },
  {
   "cell_type": "markdown",
   "metadata": {},
   "source": [
    "### Pode ser mais interessante visualizar esses dados como porcentagens. \n",
    "Para isso podemos multiplicar todas as frequências por 100 (por isso precisávamos guardar a tabela cruzada na variável `plano_x_satisfacao`):"
   ]
  },
  {
   "cell_type": "code",
   "execution_count": 45,
   "metadata": {},
   "outputs": [
    {
     "data": {
      "text/plain": [
       "Muito Insatisfeito     9.756098\n",
       "Insatisfeito          19.512195\n",
       "Indiferente           23.170732\n",
       "Satisfeito            32.926829\n",
       "Muito Satisfeito      14.634146\n",
       "Name: SATISFACAO, dtype: float64"
      ]
     },
     "execution_count": 45,
     "metadata": {},
     "output_type": "execute_result"
    }
   ],
   "source": [
    "plano_x_satisfacao_pct = plano_x_satisfacao*100\n",
    "plano_x_satisfacao_pct"
   ]
  },
  {
   "cell_type": "markdown",
   "metadata": {},
   "source": [
    "Para deixar um pouco mais claro, \n",
    "\n",
    "### Vamos mostrar apenas as primeiras 2 casas decimais:"
   ]
  },
  {
   "cell_type": "code",
   "execution_count": 46,
   "metadata": {},
   "outputs": [
    {
     "name": "stdout",
     "output_type": "stream",
     "text": [
      "Tabela Cruzada por total por PLANO (em %):\n"
     ]
    },
    {
     "data": {
      "text/plain": [
       "Muito Insatisfeito     9.76\n",
       "Insatisfeito          19.51\n",
       "Indiferente           23.17\n",
       "Satisfeito            32.93\n",
       "Muito Satisfeito      14.63\n",
       "Name: SATISFACAO, dtype: float64"
      ]
     },
     "execution_count": 46,
     "metadata": {},
     "output_type": "execute_result"
    }
   ],
   "source": [
    "plano_x_satisfacao_pct = plano_x_satisfacao_pct.round(decimals = 2)\n",
    "\n",
    "# plano_x_satisfacao_pct = plano_x_satisfacao_pct.round(2)\n",
    "\n",
    "# round(n) -> número de casas descimais\n",
    "\n",
    "print('Tabela Cruzada por total por PLANO (em %):')\n",
    "plano_x_satisfacao_pct"
   ]
  },
  {
   "cell_type": "markdown",
   "metadata": {},
   "source": [
    "<div id=\"ex5\"></div>\n",
    "\n",
    "### EXERCÍCIO 5\n",
    "\n",
    "Discuta a tabela cruzada obtida acima. Quais hipóteses você pode levantar? Por quê?"
   ]
  },
  {
   "cell_type": "raw",
   "metadata": {},
   "source": [
    "ESCREVA SUA RESPOSTA AQUI"
   ]
  },
  {
   "cell_type": "code",
   "execution_count": 47,
   "metadata": {},
   "outputs": [
    {
     "data": {
      "text/html": [
       "<div>\n",
       "<style scoped>\n",
       "    .dataframe tbody tr th:only-of-type {\n",
       "        vertical-align: middle;\n",
       "    }\n",
       "\n",
       "    .dataframe tbody tr th {\n",
       "        vertical-align: top;\n",
       "    }\n",
       "\n",
       "    .dataframe thead th {\n",
       "        text-align: right;\n",
       "    }\n",
       "</style>\n",
       "<table border=\"1\" class=\"dataframe\">\n",
       "  <thead>\n",
       "    <tr style=\"text-align: right;\">\n",
       "      <th>SATISFACAO</th>\n",
       "      <th>Muito Insatisfeito</th>\n",
       "      <th>Insatisfeito</th>\n",
       "      <th>Indiferente</th>\n",
       "      <th>Satisfeito</th>\n",
       "      <th>Muito Satisfeito</th>\n",
       "      <th>All</th>\n",
       "    </tr>\n",
       "    <tr>\n",
       "      <th>PLANO</th>\n",
       "      <th></th>\n",
       "      <th></th>\n",
       "      <th></th>\n",
       "      <th></th>\n",
       "      <th></th>\n",
       "      <th></th>\n",
       "    </tr>\n",
       "  </thead>\n",
       "  <tbody>\n",
       "    <tr>\n",
       "      <th>A</th>\n",
       "      <td>2.44</td>\n",
       "      <td>6.10</td>\n",
       "      <td>8.54</td>\n",
       "      <td>24.39</td>\n",
       "      <td>14.63</td>\n",
       "      <td>56.1</td>\n",
       "    </tr>\n",
       "    <tr>\n",
       "      <th>B</th>\n",
       "      <td>7.32</td>\n",
       "      <td>13.41</td>\n",
       "      <td>14.63</td>\n",
       "      <td>8.54</td>\n",
       "      <td>0.00</td>\n",
       "      <td>43.9</td>\n",
       "    </tr>\n",
       "    <tr>\n",
       "      <th>All</th>\n",
       "      <td>9.76</td>\n",
       "      <td>19.51</td>\n",
       "      <td>23.17</td>\n",
       "      <td>32.93</td>\n",
       "      <td>14.63</td>\n",
       "      <td>100.0</td>\n",
       "    </tr>\n",
       "  </tbody>\n",
       "</table>\n",
       "</div>"
      ],
      "text/plain": [
       "SATISFACAO  Muito Insatisfeito  Insatisfeito  Indiferente  Satisfeito  \\\n",
       "PLANO                                                                   \n",
       "A                         2.44          6.10         8.54       24.39   \n",
       "B                         7.32         13.41        14.63        8.54   \n",
       "All                       9.76         19.51        23.17       32.93   \n",
       "\n",
       "SATISFACAO  Muito Satisfeito    All  \n",
       "PLANO                                \n",
       "A                      14.63   56.1  \n",
       "B                       0.00   43.9  \n",
       "All                    14.63  100.0  "
      ]
     },
     "execution_count": 47,
     "metadata": {},
     "output_type": "execute_result"
    }
   ],
   "source": [
    "pd.crosstab(dados['PLANO'], dados['SATISFACAO'],normalize = True, margins = True).round(4)*100"
   ]
  },
  {
   "cell_type": "markdown",
   "metadata": {},
   "source": [
    "[Volta ao Índice](#indice)"
   ]
  },
  {
   "cell_type": "markdown",
   "metadata": {},
   "source": [
    "<div id=\"quanti\"></div>\n",
    "\n",
    "___\n",
    "\n",
    "# Variáveis QUANTITATIVAS\n",
    "\n",
    "___"
   ]
  },
  {
   "cell_type": "markdown",
   "metadata": {},
   "source": [
    "<div id=\"tab-freq-quanti\"></div>\n",
    "\n",
    "## Tabelas de frequências - Variáveis Quantitativas - CUIDADO\n",
    "\n",
    "Vamos ver o que acontece ao tentarmos montar a tabela de frequências da variável RENDA:"
   ]
  },
  {
   "cell_type": "code",
   "execution_count": 48,
   "metadata": {
    "scrolled": true
   },
   "outputs": [
    {
     "data": {
      "text/plain": [
       "4.9     3\n",
       "5.4     2\n",
       "2.5     2\n",
       "13.2    2\n",
       "0.8     2\n",
       "       ..\n",
       "14.8    1\n",
       "6.8     1\n",
       "4.2     1\n",
       "5.7     1\n",
       "13.5    1\n",
       "Name: RENDA, Length: 68, dtype: int64"
      ]
     },
     "execution_count": 48,
     "metadata": {},
     "output_type": "execute_result"
    }
   ],
   "source": [
    "dados['RENDA'].value_counts()"
   ]
  },
  {
   "cell_type": "markdown",
   "metadata": {},
   "source": [
    "Deu ruim!"
   ]
  },
  {
   "cell_type": "markdown",
   "metadata": {},
   "source": [
    "<div id=\"ex6\"></div>\n",
    "\n",
    "### EXERCÍCIO 6\n",
    "\n",
    "Qual é o problema de tentarmos criar uma tabela de frequências para a variável RENDA?"
   ]
  },
  {
   "cell_type": "raw",
   "metadata": {},
   "source": [
    "ESCREVA SUA RESPOSTA AQUI"
   ]
  },
  {
   "cell_type": "code",
   "execution_count": 49,
   "metadata": {},
   "outputs": [
    {
     "data": {
      "text/plain": [
       "<bound method IndexOpsMixin.value_counts of 0     21.4\n",
       "1     17.2\n",
       "2     15.6\n",
       "3     10.4\n",
       "4     17.6\n",
       "      ... \n",
       "77     4.3\n",
       "78     5.7\n",
       "79     4.0\n",
       "80     5.4\n",
       "81     0.6\n",
       "Name: RENDA, Length: 82, dtype: float64>"
      ]
     },
     "execution_count": 49,
     "metadata": {},
     "output_type": "execute_result"
    }
   ],
   "source": [
    "dados['RENDA'].value_counts"
   ]
  },
  {
   "cell_type": "code",
   "execution_count": 50,
   "metadata": {},
   "outputs": [],
   "source": [
    "dados['RENDA'] = dados['RENDA'].astype('category')"
   ]
  },
  {
   "cell_type": "code",
   "execution_count": 51,
   "metadata": {},
   "outputs": [
    {
     "ename": "ValueError",
     "evalue": "new categories need to have the same number of items as the old categories!",
     "output_type": "error",
     "traceback": [
      "\u001b[1;31m---------------------------------------------------------------------------\u001b[0m",
      "\u001b[1;31mValueError\u001b[0m                                Traceback (most recent call last)",
      "\u001b[1;32m<ipython-input-51-5561e5f37542>\u001b[0m in \u001b[0;36m<module>\u001b[1;34m\u001b[0m\n\u001b[1;32m----> 1\u001b[1;33m \u001b[0mdados\u001b[0m\u001b[1;33m[\u001b[0m\u001b[1;34m'RENDA'\u001b[0m\u001b[1;33m]\u001b[0m\u001b[1;33m.\u001b[0m\u001b[0mcat\u001b[0m\u001b[1;33m.\u001b[0m\u001b[0mcategories\u001b[0m \u001b[1;33m=\u001b[0m \u001b[1;33m[\u001b[0m\u001b[1;34m'Quantitativo'\u001b[0m\u001b[1;33m,\u001b[0m \u001b[1;34m'Contínuo'\u001b[0m\u001b[1;33m]\u001b[0m \u001b[1;31m#substitiu as categorias da Renda\u001b[0m\u001b[1;33m\u001b[0m\u001b[1;33m\u001b[0m\u001b[0m\n\u001b[0m\u001b[0;32m      2\u001b[0m \u001b[0mdados\u001b[0m\u001b[1;33m[\u001b[0m\u001b[1;34m'RENDA'\u001b[0m\u001b[1;33m]\u001b[0m\u001b[1;33m.\u001b[0m\u001b[0mto_frame\u001b[0m\u001b[1;33m(\u001b[0m\u001b[1;33m)\u001b[0m\u001b[1;33m\u001b[0m\u001b[1;33m\u001b[0m\u001b[0m\n",
      "\u001b[1;32m~\\Anaconda3\\lib\\site-packages\\pandas\\core\\base.py\u001b[0m in \u001b[0;36m__setattr__\u001b[1;34m(self, key, value)\u001b[0m\n\u001b[0;32m    119\u001b[0m         ):\n\u001b[0;32m    120\u001b[0m             \u001b[1;32mraise\u001b[0m \u001b[0mAttributeError\u001b[0m\u001b[1;33m(\u001b[0m\u001b[1;34mf\"You cannot add any new attribute '{key}'\"\u001b[0m\u001b[1;33m)\u001b[0m\u001b[1;33m\u001b[0m\u001b[1;33m\u001b[0m\u001b[0m\n\u001b[1;32m--> 121\u001b[1;33m         \u001b[0mobject\u001b[0m\u001b[1;33m.\u001b[0m\u001b[0m__setattr__\u001b[0m\u001b[1;33m(\u001b[0m\u001b[0mself\u001b[0m\u001b[1;33m,\u001b[0m \u001b[0mkey\u001b[0m\u001b[1;33m,\u001b[0m \u001b[0mvalue\u001b[0m\u001b[1;33m)\u001b[0m\u001b[1;33m\u001b[0m\u001b[1;33m\u001b[0m\u001b[0m\n\u001b[0m\u001b[0;32m    122\u001b[0m \u001b[1;33m\u001b[0m\u001b[0m\n\u001b[0;32m    123\u001b[0m \u001b[1;33m\u001b[0m\u001b[0m\n",
      "\u001b[1;32m~\\Anaconda3\\lib\\site-packages\\pandas\\core\\accessor.py\u001b[0m in \u001b[0;36m_setter\u001b[1;34m(self, new_values)\u001b[0m\n\u001b[0;32m     86\u001b[0m \u001b[1;33m\u001b[0m\u001b[0m\n\u001b[0;32m     87\u001b[0m             \u001b[1;32mdef\u001b[0m \u001b[0m_setter\u001b[0m\u001b[1;33m(\u001b[0m\u001b[0mself\u001b[0m\u001b[1;33m,\u001b[0m \u001b[0mnew_values\u001b[0m\u001b[1;33m)\u001b[0m\u001b[1;33m:\u001b[0m\u001b[1;33m\u001b[0m\u001b[1;33m\u001b[0m\u001b[0m\n\u001b[1;32m---> 88\u001b[1;33m                 \u001b[1;32mreturn\u001b[0m \u001b[0mself\u001b[0m\u001b[1;33m.\u001b[0m\u001b[0m_delegate_property_set\u001b[0m\u001b[1;33m(\u001b[0m\u001b[0mname\u001b[0m\u001b[1;33m,\u001b[0m \u001b[0mnew_values\u001b[0m\u001b[1;33m)\u001b[0m\u001b[1;33m\u001b[0m\u001b[1;33m\u001b[0m\u001b[0m\n\u001b[0m\u001b[0;32m     89\u001b[0m \u001b[1;33m\u001b[0m\u001b[0m\n\u001b[0;32m     90\u001b[0m             \u001b[0m_getter\u001b[0m\u001b[1;33m.\u001b[0m\u001b[0m__name__\u001b[0m \u001b[1;33m=\u001b[0m \u001b[0mname\u001b[0m\u001b[1;33m\u001b[0m\u001b[1;33m\u001b[0m\u001b[0m\n",
      "\u001b[1;32m~\\Anaconda3\\lib\\site-packages\\pandas\\core\\arrays\\categorical.py\u001b[0m in \u001b[0;36m_delegate_property_set\u001b[1;34m(self, name, new_values)\u001b[0m\n\u001b[0;32m   2574\u001b[0m \u001b[1;33m\u001b[0m\u001b[0m\n\u001b[0;32m   2575\u001b[0m     \u001b[1;32mdef\u001b[0m \u001b[0m_delegate_property_set\u001b[0m\u001b[1;33m(\u001b[0m\u001b[0mself\u001b[0m\u001b[1;33m,\u001b[0m \u001b[0mname\u001b[0m\u001b[1;33m,\u001b[0m \u001b[0mnew_values\u001b[0m\u001b[1;33m)\u001b[0m\u001b[1;33m:\u001b[0m\u001b[1;33m\u001b[0m\u001b[1;33m\u001b[0m\u001b[0m\n\u001b[1;32m-> 2576\u001b[1;33m         \u001b[1;32mreturn\u001b[0m \u001b[0msetattr\u001b[0m\u001b[1;33m(\u001b[0m\u001b[0mself\u001b[0m\u001b[1;33m.\u001b[0m\u001b[0m_parent\u001b[0m\u001b[1;33m,\u001b[0m \u001b[0mname\u001b[0m\u001b[1;33m,\u001b[0m \u001b[0mnew_values\u001b[0m\u001b[1;33m)\u001b[0m\u001b[1;33m\u001b[0m\u001b[1;33m\u001b[0m\u001b[0m\n\u001b[0m\u001b[0;32m   2577\u001b[0m \u001b[1;33m\u001b[0m\u001b[0m\n\u001b[0;32m   2578\u001b[0m     \u001b[1;33m@\u001b[0m\u001b[0mproperty\u001b[0m\u001b[1;33m\u001b[0m\u001b[1;33m\u001b[0m\u001b[0m\n",
      "\u001b[1;32m~\\Anaconda3\\lib\\site-packages\\pandas\\core\\arrays\\categorical.py\u001b[0m in \u001b[0;36mcategories\u001b[1;34m(self, categories)\u001b[0m\n\u001b[0;32m    419\u001b[0m             \u001b[0mnew_dtype\u001b[0m\u001b[1;33m.\u001b[0m\u001b[0mcategories\u001b[0m\u001b[1;33m\u001b[0m\u001b[1;33m\u001b[0m\u001b[0m\n\u001b[0;32m    420\u001b[0m         ):\n\u001b[1;32m--> 421\u001b[1;33m             raise ValueError(\n\u001b[0m\u001b[0;32m    422\u001b[0m                 \u001b[1;34m\"new categories need to have the same number of \"\u001b[0m\u001b[1;33m\u001b[0m\u001b[1;33m\u001b[0m\u001b[0m\n\u001b[0;32m    423\u001b[0m                 \u001b[1;34m\"items as the old categories!\"\u001b[0m\u001b[1;33m\u001b[0m\u001b[1;33m\u001b[0m\u001b[0m\n",
      "\u001b[1;31mValueError\u001b[0m: new categories need to have the same number of items as the old categories!"
     ]
    }
   ],
   "source": [
    "\n",
    "dados['RENDA'].cat.categories = ['Quantitativo', 'Contínuo'] #substitiu as categorias da Renda\n",
    "dados['RENDA'].to_frame()"
   ]
  },
  {
   "cell_type": "markdown",
   "metadata": {},
   "source": [
    "[Volta ao Índice](#indice)"
   ]
  },
  {
   "cell_type": "markdown",
   "metadata": {},
   "source": [
    "<div id=\"medidas-resumo\"></div>\n",
    "\n",
    "___\n",
    "\n",
    "## Medidas resumo\n",
    "\n",
    "Ainda não consideramos a variável RENDA em nossa análise. Vimos em aula que é possível obter diversas medidas resumo a partir de variáveis quantitativas. Vamos explorar algumas delas para tentar compreender melhor os nossos dados.\n",
    "\n",
    "<div id=\"ex7\"></div>\n",
    "\n",
    "### EXERCÍCIO 7\n",
    "\n",
    "Antes de começar nossa análise, seria interessante comparar os resultados para cada plano separadamente. Para isso, vamos começar separando nosso `DataFrame` `dados` em dois `DataFrame`s diferentes. Crie quatro variáveis:\n",
    "\n",
    "- `dados_a` contendo somente os dados dos clientes do plano A;\n",
    "- `dados_b` contendo somente os dados dos clientes do plano B;\n",
    "- `renda_a` contendo somente a renda dos clientes do plano A (dica: utilize a variável `dados_a`);\n",
    "- `renda_b` contendo somente a renda dos clientes do plano B (dica: utilize a variável `dados_b`);\n",
    "\n",
    "Qual é o tipo das variáveis `renda_a` e `renda_b`? São do tipo `DataFrame` ou algum outro tipo?"
   ]
  },
  {
   "cell_type": "code",
   "execution_count": null,
   "metadata": {},
   "outputs": [],
   "source": [
    "# ESCREVA SEU CODIGO AQUI\n",
    "\n",
    "dados['PLANO']"
   ]
  },
  {
   "cell_type": "markdown",
   "metadata": {},
   "source": [
    "[Volta ao Índice](#indice)"
   ]
  },
  {
   "cell_type": "markdown",
   "metadata": {},
   "source": [
    "<div id=\"ex8\"></div>\n",
    "\n",
    "### EXERCÍCIO 8\n",
    "\n",
    "<div id=\"mean-median-etc\"></div>\n",
    "\n",
    "O pandas disponibiliza diversas funções para o cálculo de medidas resumo. Alguns exemplos são: `mean`, `median`, `quantile`, `var`, `std`. Os nomes das funções dão uma boa dica do que elas fazem, mas, como sempre, é bom verificar a documentação do pandas para garantir que elas fazem o que você espera.\n",
    "\n",
    "Imprima a média, o primeiro, segundo (mediana) e terceiro quartis e o desvio padrão das rendas do clientes do plano A e B, separadamente."
   ]
  },
  {
   "cell_type": "code",
   "execution_count": null,
   "metadata": {},
   "outputs": [],
   "source": [
    "# ESCREVA SEU CODIGO AQUI"
   ]
  },
  {
   "cell_type": "markdown",
   "metadata": {},
   "source": [
    "[Volta ao Índice](#indice)"
   ]
  },
  {
   "cell_type": "markdown",
   "metadata": {},
   "source": [
    "<div id=\"ex9\"></div>\n",
    "\n",
    "### EXERCÍCIO 9\n",
    "\n",
    "<div id=\"describe\"></div>\n",
    "\n",
    "Uma função bastante útil para a análise exploratória é `.describe()`. Utilize a função `.describe()` com as rendas dos planos A e B e compare os resultados com os obtidos na célula anterior."
   ]
  },
  {
   "cell_type": "code",
   "execution_count": null,
   "metadata": {},
   "outputs": [],
   "source": [
    "# ESCREVA SEU CODIGO AQUI"
   ]
  },
  {
   "cell_type": "markdown",
   "metadata": {},
   "source": [
    "[Volta ao Índice](#indice)"
   ]
  },
  {
   "cell_type": "markdown",
   "metadata": {},
   "source": [
    "<div id=\"ex10\"></div>\n",
    "\n",
    "### EXERCÍCIO 10\n",
    "\n",
    "Quais hipóteses você pode formular a partir das medidas resumo da renda dos clientes dos dois planos?"
   ]
  },
  {
   "cell_type": "code",
   "execution_count": null,
   "metadata": {},
   "outputs": [],
   "source": [
    "#ESCREVA SUA RESPOSTA AQUI"
   ]
  },
  {
   "cell_type": "raw",
   "metadata": {},
   "source": [
    "ESCREVA SUA RESPOSTA AQUI"
   ]
  },
  {
   "cell_type": "markdown",
   "metadata": {},
   "source": [
    "[Volta ao Índice](#indice)"
   ]
  },
  {
   "cell_type": "markdown",
   "metadata": {},
   "source": [
    "<div id=\"ex11\"></div>\n",
    "\n",
    "### EXERCÍCIO 11\n",
    "\n",
    "Se tentarmos executar o comando\n",
    "\n",
    "    dados['EC'].mean()\n",
    "    \n",
    "vamos obter um erro. Por quê?"
   ]
  },
  {
   "cell_type": "raw",
   "metadata": {},
   "source": [
    "ESCREVA SUA RESPOSTA AQUI"
   ]
  },
  {
   "cell_type": "markdown",
   "metadata": {},
   "source": [
    "[Volta ao Índice](#indice)"
   ]
  },
  {
   "cell_type": "markdown",
   "metadata": {},
   "source": [
    "<div id=\"comandos\"></div>\n",
    "\n",
    "___\n",
    "\n",
    "## Lista de comandos utilizados neste notebook\n",
    "\n",
    "Os seguintes comandos foram utilizados neste jupyter notebook. Para facilitar sua consulta, escreva um resumo do que cada um deles faz:\n",
    "\n",
    "- [`.astype`](#astype): ESCREVA AQUI O RESUMO\n",
    "- [`.cat.categories`](#categories): ESCREVA AQUI O RESUMO\n",
    "- [`.cat.ordered`](#ordered): ESCREVA AQUI O RESUMO\n",
    "- [`.value_counts`](#value_counts): ESCREVA AQUI O RESUMO\n",
    "- [`pd.crosstab`](#crosstab): ESCREVA AQUI O RESUMO\n",
    "- [`.mean`](#mean-median-etc): ESCREVA AQUI O RESUMO\n",
    "- [`.median`](#mean-median-etc): ESCREVA AQUI O RESUMO\n",
    "- [`.quantile`](#mean-median-etc): ESCREVA AQUI O RESUMO\n",
    "- [`.var`](#mean-median-etc): ESCREVA AQUI O RESUMO\n",
    "- [`.std`](#mean-median-etc): ESCREVA AQUI O RESUMO\n",
    "- [`.describe`](#describe): ESCREVA AQUI O RESUMO"
   ]
  },
  {
   "cell_type": "code",
   "execution_count": null,
   "metadata": {},
   "outputs": [],
   "source": []
  }
 ],
 "metadata": {
  "interpreter": {
   "hash": "d6087abe8b6085e165377c61605e3a6e08ff87e093ba4861cb6b189e52f7acab"
  },
  "kernelspec": {
   "display_name": "Python 3",
   "language": "python",
   "name": "python3"
  },
  "language_info": {
   "codemirror_mode": {
    "name": "ipython",
    "version": 3
   },
   "file_extension": ".py",
   "mimetype": "text/x-python",
   "name": "python",
   "nbconvert_exporter": "python",
   "pygments_lexer": "ipython3",
   "version": "3.8.5"
  }
 },
 "nbformat": 4,
 "nbformat_minor": 4
}
