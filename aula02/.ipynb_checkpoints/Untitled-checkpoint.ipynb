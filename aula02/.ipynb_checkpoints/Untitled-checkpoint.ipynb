{
 "cells": [
  {
   "cell_type": "code",
   "execution_count": 2,
   "metadata": {},
   "outputs": [
    {
     "name": "stdout",
     "output_type": "stream",
     "text": [
      "Correntes:\n",
      "i1 =  0.0533 A\n",
      "i2 =  0.0167 A\n",
      "i3 =  0.0367 A\n"
     ]
    }
   ],
   "source": [
    "import numpy as np\n",
    "from scipy import linalg\n",
    "\n",
    "A = [[1,-1,-1],[100,100,0],[0,100,-100]]\n",
    "V = [0,7,-2]\n",
    "\n",
    "\n",
    "I = np.dot(linalg.inv(A),V)\n",
    "\n",
    "print('Correntes:')\n",
    "print(\"i1 = \", '%6.4f'% I[0], \"A\")\n",
    "print(\"i2 = \", '%6.4f'% I[1], \"A\")\n",
    "print(\"i3 = \", '%6.4f'% I[2], \"A\")"
   ]
  },
  {
   "cell_type": "code",
   "execution_count": 3,
   "metadata": {},
   "outputs": [
    {
     "name": "stdout",
     "output_type": "stream",
     "text": [
      "Correntes:\n",
      "i1 =  0.0400 A\n",
      "i2 =  0.0300 A\n",
      "i3 =  0.0100 A\n"
     ]
    }
   ],
   "source": [
    "import numpy as np\n",
    "from scipy import linalg\n",
    "\n",
    "A = [[1,-1,-1],[100,100,0],[0,100,-100]]\n",
    "V = [0,7,2]\n",
    "\n",
    "\n",
    "I = np.dot(linalg.inv(A),V)\n",
    "\n",
    "print('Correntes:')\n",
    "print(\"i1 = \", '%6.4f'% I[0], \"A\")\n",
    "print(\"i2 = \", '%6.4f'% I[1], \"A\")\n",
    "print(\"i3 = \", '%6.4f'% I[2], \"A\")"
   ]
  },
  {
   "cell_type": "code",
   "execution_count": 4,
   "metadata": {},
   "outputs": [
    {
     "name": "stdout",
     "output_type": "stream",
     "text": [
      "Correntes:\n",
      "i1 =  1.2258 A\n",
      "i2 =  1.9355 A\n",
      "i3 =  -0.7097 A\n",
      "i4 =  1.2903 A\n",
      "U =  3.8710 V\n"
     ]
    }
   ],
   "source": [
    "import numpy as np\n",
    "from scipy import linalg\n",
    "\n",
    "A = [[5,2,0,0,0],[1,-1,-1,0,0],[0,0,1,-1,0],[0,2,0,-3,0],[0,0,0,3,-1]]\n",
    "V = [10,0,-2,0,0]\n",
    "\n",
    "\n",
    "I = np.dot(linalg.inv(A),V)\n",
    "\n",
    "print('Correntes:')\n",
    "print(\"i1 = \", '%6.4f'% I[0], \"A\")\n",
    "print(\"i2 = \", '%6.4f'% I[1], \"A\")\n",
    "print(\"i3 = \", '%6.4f'% I[2], \"A\")\n",
    "print(\"i4 = \", '%6.4f'% I[3], \"A\")\n",
    "print(\"U = \", '%6.4f'% I[4], \"V\")"
   ]
  },
  {
   "cell_type": "code",
   "execution_count": null,
   "metadata": {},
   "outputs": [],
   "source": []
  }
 ],
 "metadata": {
  "kernelspec": {
   "display_name": "Python 3",
   "language": "python",
   "name": "python3"
  },
  "language_info": {
   "codemirror_mode": {
    "name": "ipython",
    "version": 3
   },
   "file_extension": ".py",
   "mimetype": "text/x-python",
   "name": "python",
   "nbconvert_exporter": "python",
   "pygments_lexer": "ipython3",
   "version": "3.8.5"
  }
 },
 "nbformat": 4,
 "nbformat_minor": 4
}
