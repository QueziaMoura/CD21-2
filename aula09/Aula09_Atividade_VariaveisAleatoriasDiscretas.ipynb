{
 "cells": [
  {
   "cell_type": "markdown",
   "metadata": {},
   "source": [
    "# ___\n",
    "# Atividade: Variáveis aleatórias discretas\n",
    "___\n",
    "\n",
    "## Aula 09"
   ]
  },
  {
   "cell_type": "markdown",
   "metadata": {},
   "source": [
    "**Propiedades da Esperança**\n",
    "\n",
    "* $E(X + d)$ = $E(X)$ + $d$\n",
    "* $E(cX)$ = $cE(X)$ \n",
    "\n",
    "* $E(cX + d)$ = $cE(X)$ + $d$"
   ]
  },
  {
   "cell_type": "markdown",
   "metadata": {},
   "source": [
    "**Propiedades da Variância**\n",
    "\n",
    "* $Var(X + d)$ = $Var(X)$ \n",
    "* $Var(cX)$ = $c^2Var(X)$ \n",
    "* $Var(cX + d)$ = $c^2Var(X)$"
   ]
  },
  {
   "cell_type": "markdown",
   "metadata": {},
   "source": [
    "<div id=\"indice\"></div>\n",
    "\n",
    "## Índice\n",
    "\n",
    "- [Corretora de Seguros](#corretora-de-seguros)\n",
    "    - [Exercício 1](#ex1)\n",
    "    - [Exercício 2](#ex2)\n",
    "    - [Exercício 3](#ex3)\n",
    "    - [Exercício 4](#ex4)\n",
    "    - [Exercício 5](#ex5)\n",
    "    - [Exercício 6](#ex6)\n"
   ]
  },
  {
   "cell_type": "code",
   "execution_count": 1,
   "metadata": {},
   "outputs": [],
   "source": [
    "import numpy as np\n",
    "import random\n",
    "import pandas as pd"
   ]
  },
  {
   "cell_type": "markdown",
   "metadata": {},
   "source": [
    "___\n",
    "\n",
    "<div id=\"corretora-de-seguros\"></div>\n",
    "\n",
    "## Corretora de Seguros\n",
    "\n",
    "Uma corretora de seguros paga uma comissão de R\\\\$50,00 a cada novo seguro que um corretor vende. A probabilidade de um cliente adquirir o seguro é de 0,20. \n",
    "\n",
    "1. Descreva como pode se comportar a comissão se um corretor ao abordar 2 clientes de maneira independente um do outro.\n",
    "1. Qual a probabilidade de um corretor ganhar apenas R\\\\$50,00?\n",
    "\n",
    "Vamos considerar os eventos:\n",
    "\n",
    "- $S_i$: o cliente $i$ compra o seguro;\n",
    "- $N_i = S_i^C$: o cliente $i$ não compra o seguro.\n",
    "\n",
    "Pelo enunciado sabemos que:\n",
    "\n",
    "- $P(S_i) = 0.2$\n",
    "- $P(N_i) = P(S_i^C) = 1 - P(S_i) = 0.8$\n",
    "\n",
    "Listando todas as possíveis combinações de eventos, temos:\n",
    "\n",
    "Cliente 1 | Cliente 2 | Probabilidade           | Valor da comissão\n",
    "--------- | --------- | ----------------------- | -----------------\n",
    "$N_1$     | $N_2$     | $P(N_1)P(N_2)$ = $0.64$ | 0\n",
    "$N_1$     | $S_2$     | $P(N_1)P(S_2)$ = $0.16$ | 50\n",
    "$S_1$     | $N_2$     | $P(S_1)P(N_2)$ = $0.16$ | 50\n",
    "$S_1$     | $S_2$     | $P(S_1)P(S_2)$ = $0.04$ | 100\n",
    "\n",
    "Estamos interessados no valor da comissão de um corretor. Para isso, vamos definir a variável aleatória:\n",
    "\n",
    "- $C$: valor da comissão do corretor.\n",
    "\n",
    "Assim, o item 2 pode ser interpretado como: qual é o valor de $P(C=50)$?\n",
    "\n",
    "Consultando a tabela calculada acima, vemos que $P(C=50) = 0.16 + 0.16 = 0.32$.\n",
    "\n",
    "<div id=\"ex1\"></div>\n",
    "\n",
    "### EXERCÍCIO 1\n",
    "\n",
    "Calcule o valor esperado e a variância da variável $C$.\n",
    "\n",
    "*Resposta esperada para esperança e variância respectivamente: 20.0 reais ; 800.0 reais^2*"
   ]
  },
  {
   "cell_type": "markdown",
   "metadata": {},
   "source": []
  },
  {
   "cell_type": "code",
   "execution_count": 18,
   "metadata": {},
   "outputs": [
    {
     "name": "stdout",
     "output_type": "stream",
     "text": [
      "O valor esperado é 20.0\n"
     ]
    }
   ],
   "source": [
    "# ESCREVA SEU CÓDIGO AQUI\n",
    "\n",
    "# Esperança -> é uma medida de tendência central - Valor médio\n",
    "\n",
    "lista_P = [0.64,0.32,0.04]\n",
    "lista_x = [0,50,100]\n",
    "\n",
    "E = 0\n",
    "for i in range(len(lista_P)):\n",
    "    termo = lista_x[i]*lista_P[i]\n",
    "    E += termo\n",
    "    \n",
    "print(f\"O valor esperado é {E}\")"
   ]
  },
  {
   "cell_type": "code",
   "execution_count": 19,
   "metadata": {},
   "outputs": [
    {
     "name": "stdout",
     "output_type": "stream",
     "text": [
      "A variância é 800.0\n",
      "O desvio padrão calculado é 28.2843\n"
     ]
    }
   ],
   "source": [
    "# Cálculo do Desvio Padrão\n",
    "\n",
    "\n",
    "from math import sqrt\n",
    "\n",
    "var = 0\n",
    "for i in range(len(lista_P)):\n",
    "    s = lista_P[i]*(lista_x[i] - E)**2\n",
    "    var += s\n",
    "    \n",
    "Des_padrao = sqrt(var)\n",
    "\n",
    "print(f\"A variância é {var}\")\n",
    "print(f'O desvio padrão calculado é {Des_padrao:.4f}')"
   ]
  },
  {
   "cell_type": "markdown",
   "metadata": {},
   "source": [
    "___\n",
    "## Tomando uma decisão\n",
    "\n",
    "Imagine que a corretora de seguros irá fornecer um aumento na comissão dos corretores. Entretanto, cada corretor poderá escolher uma das seguintes opções:\n",
    "\n",
    "- **Opção 1:** Nova comissão será a comissão atual mais um fixo de R$ 20,00;\n",
    "- **Opção 2:** Nova comissão será o dobro da atual comissão.\n",
    "\n",
    "<br>\n",
    "\n",
    "A ideia aqui é fazer uma escolha de qual delas é melhor para aumentar o ganho de um corretor. \n",
    "\n",
    "Para isso, resolva os exercícios a seguir para auxiliá-lo nessa escolha."
   ]
  },
  {
   "cell_type": "markdown",
   "metadata": {},
   "source": [
    "<div id=\"ex2\"></div>\n",
    "\n",
    "### EXERCÍCIO 2\n",
    "\n",
    "Construa a distribuição de probabilidade para cada uma das opções.\n"
   ]
  },
  {
   "cell_type": "markdown",
   "metadata": {},
   "source": [
    "ESCREVA SUA RESPOSTA AQUI"
   ]
  },
  {
   "cell_type": "code",
   "execution_count": 20,
   "metadata": {},
   "outputs": [],
   "source": [
    "# ESCREVA SEU CÓDIGO AQUI"
   ]
  },
  {
   "cell_type": "markdown",
   "metadata": {},
   "source": [
    "- **Opção 1:** Nova comissão será a comissão atual mais um fixo de R$ 20,00;"
   ]
  },
  {
   "cell_type": "markdown",
   "metadata": {},
   "source": [
    "\n",
    "   Probabilidade        | Fixo de R\\\\$ 20,00 |\n",
    "----------------------- | ------------------ | \n",
    "$P(N_1)P(N_2)$ = $0.64$ | 20                 |\n",
    "$P(N_1)P(S_2)$+$P(S_1)P(N_2)$ = $0.32$ | 70  |              \n",
    "$P(S_1)P(S_2)$ = $0.04$ | 120                | \n"
   ]
  },
  {
   "cell_type": "markdown",
   "metadata": {},
   "source": [
    "<div id=\"ex3\"></div>\n",
    "\n",
    "### Valor Esperado - Opção 1\n",
    "\n",
    "Considerando as respectivas distribuições de probabilidades, calcule o valor esperado e a variância para cada opção. "
   ]
  },
  {
   "cell_type": "code",
   "execution_count": 21,
   "metadata": {},
   "outputs": [
    {
     "name": "stdout",
     "output_type": "stream",
     "text": [
      "O valor esperado é 40.0\n"
     ]
    }
   ],
   "source": [
    "# Y = X + 20\n",
    "\n",
    "lista_P = [0.64,0.32,0.04]\n",
    "lista_y = [0+20,50+20,100+20]\n",
    "\n",
    "Ey = 0\n",
    "for i in range(len(lista_P)):\n",
    "    termo = lista_y[i]*lista_P[i]\n",
    "    Ey += termo\n",
    "    \n",
    "print(f\"O valor esperado é {Ey}\")"
   ]
  },
  {
   "cell_type": "markdown",
   "metadata": {},
   "source": [
    "$E(Y)$ = $E(X)$ + $20$"
   ]
  },
  {
   "cell_type": "markdown",
   "metadata": {},
   "source": [
    "<div id=\"ex5\"></div>\n",
    "\n",
    "### Variância - Opção 1\n",
    "\n",
    "Baseado nas propriedades da variância (nos slides), calcule a variância para a nova comissão em cada uma das opções.\n",
    "\n",
    "*Resposta esperada para variância opção 1 e 2 respectivamente: 800.0 reais^2 ; 3200.0 reais^2*"
   ]
  },
  {
   "cell_type": "code",
   "execution_count": 22,
   "metadata": {},
   "outputs": [
    {
     "name": "stdout",
     "output_type": "stream",
     "text": [
      "A variância é 800.0\n",
      "O desvio padrão calculado é 28.2843\n"
     ]
    }
   ],
   "source": [
    "# Cálculo do Desvio Padrão\n",
    "\n",
    "from math import sqrt\n",
    "\n",
    "var_y = 0\n",
    "for i in range(len(lista_P)):\n",
    "    s = lista_P[i]*(lista_y[i] - Ey)**2\n",
    "    var_y += s\n",
    "    \n",
    "Des_padrao_y = sqrt(var_y)\n",
    "\n",
    "print(f\"A variância é {var_y}\")\n",
    "print(f'O desvio padrão calculado é {Des_padrao_y:.4f}')"
   ]
  },
  {
   "cell_type": "markdown",
   "metadata": {},
   "source": [
    "**Z = X + 20**\n",
    "\n",
    "* $E(Y)$ = $E(X)$ + $20$\n",
    "\n",
    "* $Var(Y)$ = $Var(X)$"
   ]
  },
  {
   "cell_type": "markdown",
   "metadata": {},
   "source": [
    "# PROF\n",
    "\n",
    "\n",
    "   Probabilidade        | Fixo de R\\\\$ 20,00 | Dobro da comissão atual\n",
    "----------------------- | ------------------ | -----------------------\n",
    "$P(N_1)P(N_2)$ = $0.64$ | 20                 | 0\n",
    "$P(N_1)P(S_2)$+$P(S_1)P(N_2)$ = $0.32$ | 70                 | 100\n",
    "$P(S_1)P(S_2)$ = $0.04$ | 120                | 200\n"
   ]
  },
  {
   "cell_type": "markdown",
   "metadata": {},
   "source": [
    "<div id=\"ex4\"></div>\n",
    "\n",
    "### Valor Esperado - Opção 2\n",
    "\n",
    "Baseado nas propriedades da esperança (nos slides), calcule o valor esperado para a nova comissão em cada uma das opções.\n",
    "\n",
    "*Resposta esperada para esperança opção 1 e 2 respectivamente: 40.0 reais ; 40.0 reais*"
   ]
  },
  {
   "cell_type": "markdown",
   "metadata": {},
   "source": [
    "- **Opção 2:** Nova comissão será o dobro da atual comissão."
   ]
  },
  {
   "cell_type": "markdown",
   "metadata": {},
   "source": [
    "\n",
    "   Probabilidade        | Dobro da comissão atual\n",
    "----------------------- | -----------------------\n",
    "$P(N_1)P(N_2)$ = $0.64$ | 0\n",
    "$P(N_1)P(S_2)$+$P(S_1)P(N_2)$ = $0.32$ | 100\n",
    "$P(S_1)P(S_2)$ = $0.04$ | 200\n"
   ]
  },
  {
   "cell_type": "code",
   "execution_count": 23,
   "metadata": {},
   "outputs": [
    {
     "name": "stdout",
     "output_type": "stream",
     "text": [
      "O valor esperado é 40.0\n"
     ]
    }
   ],
   "source": [
    "# Z = 2X\n",
    "\n",
    "lista_P = [0.64,0.32,0.04]\n",
    "lista_z = [0,100,200]\n",
    "\n",
    "Ez = 0\n",
    "for i in range(len(lista_P)):\n",
    "    termo = lista_z[i]*lista_P[i]\n",
    "    Ez += termo\n",
    "    \n",
    "print(f\"O valor esperado é {Ez}\")"
   ]
  },
  {
   "cell_type": "markdown",
   "metadata": {},
   "source": [
    "$E(Y)$ = 2$E(X)$"
   ]
  },
  {
   "cell_type": "markdown",
   "metadata": {},
   "source": [
    "<div id=\"ex5\"></div>\n",
    "\n",
    "### Variância - Opção 2\n",
    "\n",
    "Baseado nas propriedades da variância (nos slides), calcule a variância para a nova comissão em cada uma das opções.\n",
    "\n",
    "*Resposta esperada para variância opção 1 e 2 respectivamente: 800.0 reais^2 ; 3200.0 reais^2*"
   ]
  },
  {
   "cell_type": "code",
   "execution_count": 25,
   "metadata": {},
   "outputs": [
    {
     "name": "stdout",
     "output_type": "stream",
     "text": [
      "A variância é 3200.0\n",
      "O desvio padrão calculado é 56.5685\n"
     ]
    }
   ],
   "source": [
    "var_z = 0\n",
    "\n",
    "for i in range(len(lista_P)):\n",
    "    s = lista_P[i]*(lista_z[i]-Ez)**2\n",
    "    var_z += s \n",
    "    \n",
    "Des_padrao_z = sqrt(var_z)\n",
    "\n",
    "print(f\"A variância é {var_z} para a nova comissão\")\n",
    "print(f'O desvio padrão calculado é {Des_padrao_z:.4f}')"
   ]
  },
  {
   "cell_type": "markdown",
   "metadata": {},
   "source": [
    "**Z = 2X**\n",
    "* $E(Z)$ = $2$$E(X)$\n",
    "\n",
    "* $Var(Z)$ = $(2^2)$$Var(X)$"
   ]
  },
  {
   "cell_type": "markdown",
   "metadata": {},
   "source": [
    "<div id=\"ex6\"></div>\n",
    "\n",
    "### EXERCÍCIO 6\n",
    "\n",
    "Baseado nos resultados acima, qual opção você recomendaria para um corretor?"
   ]
  },
  {
   "cell_type": "markdown",
   "metadata": {},
   "source": [
    "ESCREVA SUA RESPOSTA AQUI"
   ]
  },
  {
   "cell_type": "code",
   "execution_count": 29,
   "metadata": {},
   "outputs": [
    {
     "name": "stdout",
     "output_type": "stream",
     "text": [
      "O valor esperado é 40.0 para a opção 1\n",
      "O valor esperado é 40.0 para a opção 2\n"
     ]
    }
   ],
   "source": [
    "print(f\"O valor esperado é {Ey} para a opção 1\")\n",
    "print(f\"O valor esperado é {Ez} para a opção 2\")"
   ]
  },
  {
   "cell_type": "code",
   "execution_count": 30,
   "metadata": {},
   "outputs": [
    {
     "name": "stdout",
     "output_type": "stream",
     "text": [
      "A variância é 800.0 para a opção 1\n",
      "A variância é 3200.0 para a opção 2\n"
     ]
    }
   ],
   "source": [
    "print(f\"A variância é {var_y} para a opção 1\")\n",
    "print(f\"A variância é {var_z} para a opção 2\")"
   ]
  },
  {
   "cell_type": "markdown",
   "metadata": {},
   "source": [
    "# Referências\n",
    "\n",
    "1. MONTGOMERY, D. et al. Estatística Aplicada e Probabilidade para Engenheiros. 6. ed. Seções 2.8 e 3.1\n",
    "1. MAGALHÃES, M. et al. Noções de Probabilidade e Estatística. 7. ed. Seções 3.1 e definições 4.2 (p. 110) e 4.5 (p. 121)"
   ]
  }
 ],
 "metadata": {
  "kernelspec": {
   "display_name": "Python 3",
   "language": "python",
   "name": "python3"
  },
  "language_info": {
   "codemirror_mode": {
    "name": "ipython",
    "version": 3
   },
   "file_extension": ".py",
   "mimetype": "text/x-python",
   "name": "python",
   "nbconvert_exporter": "python",
   "pygments_lexer": "ipython3",
   "version": "3.8.5"
  }
 },
 "nbformat": 4,
 "nbformat_minor": 4
}
