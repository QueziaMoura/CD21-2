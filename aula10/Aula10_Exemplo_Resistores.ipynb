{
 "cells": [
  {
   "cell_type": "markdown",
   "metadata": {},
   "source": [
    "___\n",
    "# Exemplo: Distribuição Binomial\n",
    "\n",
    "___\n",
    "## Aula 10\n",
    "\n",
    "\n",
    "## Lista de comandos:"
   ]
  },
  {
   "cell_type": "markdown",
   "metadata": {},
   "source": [
    "Comandos:\n",
    "\n",
    "- $P(Y=y)$: `stats.binom.pmf(y, n, p)`\n",
    "- $P(Y\\leq y)$: `stats.binom.cdf(y, n, p)`\n",
    "- $E(Y)$: `stats.binom.mean(n, p)`\n",
    "- $Var(Y)$: `stats.binom.var(n, p)`\n",
    "- $DP(Y)$: `stats.binom.std(n, p)`\n",
    "\n",
    "Link: https://docs.scipy.org/doc/scipy/reference/generated/scipy.stats.binom.html"
   ]
  },
  {
   "cell_type": "code",
   "execution_count": 2,
   "metadata": {},
   "outputs": [],
   "source": [
    "from scipy import stats"
   ]
  },
  {
   "cell_type": "markdown",
   "metadata": {},
   "source": [
    "A probabilidade de um determinado resistor falhar é sempre de 0,20. \n",
    "\n",
    "Considere pacote de 100 resistores."
   ]
  },
  {
   "cell_type": "code",
   "execution_count": 3,
   "metadata": {},
   "outputs": [],
   "source": [
    "# Problema:\n",
    "n=100  # total de resistores\n",
    "p=0.2  # probabilidade de sucesso"
   ]
  },
  {
   "cell_type": "markdown",
   "metadata": {},
   "source": [
    "a) Em um pacote com 100 resistores, qual a probabilidade de 20 falharem?\n",
    "\n",
    "*Resposta esperada: 0.09930021480881725*"
   ]
  },
  {
   "cell_type": "code",
   "execution_count": 4,
   "metadata": {},
   "outputs": [
    {
     "data": {
      "text/plain": [
       "0.09930021480881725"
      ]
     },
     "execution_count": 4,
     "metadata": {},
     "output_type": "execute_result"
    }
   ],
   "source": [
    "# ESCREVA SEU CÓDIGO AQUI\n",
    "# P(Y = 20)\n",
    "P_Yigual = stats.binom.pmf(20,n,p)\n",
    "P_Yigual\n"
   ]
  },
  {
   "cell_type": "markdown",
   "metadata": {},
   "source": [
    "b) Em um pacote com 100 resistores, qual a probabilidade de no máximo 20 falharem?\n",
    "\n",
    "*Resposta esperada: 0.5594615848733977*"
   ]
  },
  {
   "cell_type": "code",
   "execution_count": 5,
   "metadata": {},
   "outputs": [
    {
     "name": "stdout",
     "output_type": "stream",
     "text": [
      "0.5594615848733798\n"
     ]
    }
   ],
   "source": [
    "# ESCREVA SEU CÓDIGO AQUI\n",
    "\n",
    "# Probabilidade acumulada até o valor y valendo 20\n",
    "# P(Y<=20) = P(Y = 0) + P(Y = 1) + ... + P(Y = 20)\n",
    "\n",
    "# P_Ymaximo20 = \n",
    "\n",
    "P = 0\n",
    "for i in range(0,21):\n",
    "    P = P + stats.binom.pmf(i,n,p) # P(Y=i)\n",
    "print(P)"
   ]
  },
  {
   "cell_type": "code",
   "execution_count": 6,
   "metadata": {},
   "outputs": [
    {
     "data": {
      "text/plain": [
       "0.5594615848733977"
      ]
     },
     "execution_count": 6,
     "metadata": {},
     "output_type": "execute_result"
    }
   ],
   "source": [
    "P_ate20 = stats.binom.cdf(20,n,p) # Já tem o for embutido\n",
    "P_ate20\n",
    "\n",
    "# cdf -> probabilidade acumulada"
   ]
  },
  {
   "cell_type": "markdown",
   "metadata": {},
   "source": [
    "c) Em um pacote com 100 resistores, qual a probabilidade de pelo menos 20 falharem?\n",
    "\n",
    "*Resposta esperada: 0.5398386299354281*"
   ]
  },
  {
   "cell_type": "code",
   "execution_count": 7,
   "metadata": {},
   "outputs": [
    {
     "name": "stdout",
     "output_type": "stream",
     "text": [
      "0.5398386299354189\n"
     ]
    }
   ],
   "source": [
    "# ESCREVA SEU CÓDIGO AQUI\n",
    "\n",
    "# P(Y >= 20) = P(Y = 20) + P(Y= 21) + ... + P(Y= 100)\n",
    "\n",
    "P = 0\n",
    "for i in range(20,201):\n",
    "    P = P + stats.binom.pmf(i,n,p)\n",
    "print(P)\n",
    "\n",
    "# stats.binom.pmf(i,n,p)\n",
    "# n -> total\n",
    "# p -> probabilidade de sucesso\n"
   ]
  },
  {
   "cell_type": "code",
   "execution_count": 8,
   "metadata": {},
   "outputs": [
    {
     "name": "stdout",
     "output_type": "stream",
     "text": [
      "0.5398386299354281\n"
     ]
    }
   ],
   "source": [
    "# P(Y >= 20) = 1 - P(Y <= 19) \n",
    "P = 1 - stats.binom.cdf(19,n,p)\n",
    "P_ = stats.binom.cdf(100,n,p) - stats.binom.cdf(19,n,p)\n",
    "print(P)"
   ]
  },
  {
   "cell_type": "code",
   "execution_count": 9,
   "metadata": {},
   "outputs": [
    {
     "data": {
      "text/plain": [
       "1.0"
      ]
     },
     "execution_count": 9,
     "metadata": {},
     "output_type": "execute_result"
    }
   ],
   "source": [
    "stats.binom.cdf(100,n,p)"
   ]
  },
  {
   "cell_type": "markdown",
   "metadata": {},
   "source": [
    "___\n",
    "### Exercícios EXTRAS"
   ]
  },
  {
   "cell_type": "markdown",
   "metadata": {},
   "source": [
    "d) Em um pacote com 100 resistores, qual a probabilidade mais de 20 e menos de 40 falharem?\n",
    "\n",
    "*Resposta esperada: 0.4405348067064877*"
   ]
  },
  {
   "cell_type": "code",
   "execution_count": 10,
   "metadata": {},
   "outputs": [
    {
     "name": "stdout",
     "output_type": "stream",
     "text": [
      "0.4405348067064877\n"
     ]
    }
   ],
   "source": [
    "# ESCREVA SEU CÓDIGO AQUI\n",
    "\n",
    "# Y > 20 E Y < 40\n",
    "\n",
    "falhar_ate_20 = stats.binom.cdf(20,n,p) \n",
    "falhar_ate_39 = stats.binom.cdf(39,n,p)\n",
    "\n",
    "P = falhar_ate_39 - falhar_ate_20\n",
    "\n",
    "\n",
    "print(P)"
   ]
  },
  {
   "cell_type": "markdown",
   "metadata": {},
   "source": [
    "e) Em um pacote com 100 resistores, qual a probabilidade menos de 20 OU mais de 40 falharem?\n",
    "\n",
    "*Resposta esperada: 0.460162662248815*"
   ]
  },
  {
   "cell_type": "code",
   "execution_count": 11,
   "metadata": {},
   "outputs": [
    {
     "name": "stdout",
     "output_type": "stream",
     "text": [
      "0.460162662248815\n"
     ]
    }
   ],
   "source": [
    "# ESCREVA SEU CÓDIGO AQUI\n",
    "\n",
    "# Y < 20 ou Y > 40\n",
    "\n",
    "falhar_ate_19 = stats.binom.cdf(19,n,p)\n",
    "falhar_maior_40 = 1 - stats.binom.cdf(40,n,p)\n",
    "\n",
    "P = falhar_ate_19 + falhar_maior_40\n",
    "print(P)"
   ]
  },
  {
   "cell_type": "markdown",
   "metadata": {},
   "source": [
    "f) Em um pacote com 100 resistores, se mais de 20 resistores falharam, qual a probabilidade de ter no máximo 25 com falhas?\n",
    "\n",
    "*Resposta esperada: 0.8014352854598751*"
   ]
  },
  {
   "cell_type": "code",
   "execution_count": 12,
   "metadata": {},
   "outputs": [],
   "source": [
    "# ESCREVA SEU CÓDIGO AQUI"
   ]
  },
  {
   "cell_type": "code",
   "execution_count": 13,
   "metadata": {},
   "outputs": [
    {
     "name": "stdout",
     "output_type": "stream",
     "text": [
      "0.460162662248815\n"
     ]
    }
   ],
   "source": [
    "# Y > 20 E Y <= 25\n",
    "\n",
    "falhar_ate_19 = stats.binom.cdf(19,n,p)\n",
    "falhar_ate_25 = stats.binom.cdf(25,n,p)\n",
    "\n",
    "P_maior_20 = 1 - falhar_ate_19\n",
    "\n",
    "print(P)"
   ]
  },
  {
   "cell_type": "code",
   "execution_count": null,
   "metadata": {},
   "outputs": [],
   "source": []
  }
 ],
 "metadata": {
  "kernelspec": {
   "display_name": "Python 3",
   "language": "python",
   "name": "python3"
  },
  "language_info": {
   "codemirror_mode": {
    "name": "ipython",
    "version": 3
   },
   "file_extension": ".py",
   "mimetype": "text/x-python",
   "name": "python",
   "nbconvert_exporter": "python",
   "pygments_lexer": "ipython3",
   "version": "3.8.5"
  }
 },
 "nbformat": 4,
 "nbformat_minor": 2
}
