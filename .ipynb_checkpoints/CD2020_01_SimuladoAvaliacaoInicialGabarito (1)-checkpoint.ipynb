{
 "cells": [
  {
   "cell_type": "markdown",
   "metadata": {},
   "source": [
    "Escreva seu nome: <font color=red>GABARITO</font>"
   ]
  },
  {
   "cell_type": "markdown",
   "metadata": {},
   "source": [
    "\n",
    "\n",
    "# Avaliação Inicial de Ciência dos dados\n",
    "\n",
    "**2020 - 1o. semestre**"
   ]
  },
  {
   "cell_type": "markdown",
   "metadata": {},
   "source": [
    "___\n",
    "## Índice\n",
    "\n",
    "- [Titanic](#titanic)\n",
    "- [Questão 1](#q1)\n",
    "- [Questão 2](#q2)\n",
    "- [Questão 3](#q3)\n",
    "- [Questão 4](#q4)\n",
    "- [Questão 5](#q5)\n",
    "___"
   ]
  },
  {
   "cell_type": "markdown",
   "metadata": {},
   "source": [
    "<div id=\"titanic\"></div>\n",
    "\n",
    "## Titanic\n",
    "\n",
    "Entre as muitas competições disponíveis na plataforma Kaggle, encontra-se a de *Machine Learning* do Titanic conforme apresentado neste [link](https://www.kaggle.com/c/titanic/data).\n",
    "\n",
    "A base de dados apresentada no arquivo `titanic.xlsx` contém informação de 891 passageiros para os quais foram mensurados as seguintes informações (as categorias serão mantidas em inglês assim como os nomes das variáveis):\n",
    " \n",
    " * `Survived`: indica se passageiro sobreviveu ou não.\n",
    "    - 0 = No,\n",
    "    - 1 = Yes.\n",
    " * `Pclass`: indica a classe da passagem (*ticket*).\n",
    "    - 1 = 1st, \n",
    "    - 2 = 2nd, \n",
    "    - 3 = 3rd.\n",
    " * `Sex`: sexo do passageiro. \n",
    "    - female,\n",
    "    - male.\n",
    " * `Age`: idade em anos.\n",
    " * `Sibsp`: número de irmãos e/ou cônjuges a bordo do Titanic.\n",
    " * `Parch`: número de pais e/ou filhos a bordo do Titanic.\n",
    " * `Ticket`: número do *ticket*.\n",
    " * `Fare`: tarifa do passageiro.\n",
    " * `Cabin`: número da cabine.\n",
    " * `Embarked`: portão de embarque.\n",
    "    - C = Cherbourg, \n",
    "    - Q = Queenstown, \n",
    "    - S = Southampton.\n",
    "\n",
    "\n",
    "**Notas:**\n",
    "A variável `Pclass` pode ser considerada uma *proxy* da situação socioeconômico do passageiro, ou seja, \n",
    "1st = Upper, 2nd = Middle,  3rd = Lower.\n"
   ]
  },
  {
   "cell_type": "markdown",
   "metadata": {},
   "source": [
    "___\n",
    "Carregando algumas bibliotecas:"
   ]
  },
  {
   "cell_type": "code",
   "execution_count": 7,
   "metadata": {},
   "outputs": [],
   "source": [
    "%matplotlib inline\n",
    "import pandas as pd\n",
    "import matplotlib.pyplot as plt\n",
    "import numpy as np\n",
    "import os"
   ]
  },
  {
   "cell_type": "code",
   "execution_count": 8,
   "metadata": {},
   "outputs": [
    {
     "name": "stdout",
     "output_type": "stream",
     "text": [
      "Esperamos trabalhar no diretório\n",
      "C:\\Users\\quezi\\OneDrive\\Área de Trabalho\\CD21-2\n"
     ]
    }
   ],
   "source": [
    "print('Esperamos trabalhar no diretório')\n",
    "print(os.getcwd())"
   ]
  },
  {
   "cell_type": "markdown",
   "metadata": {},
   "source": [
    "Carregando os dados do arquivo `titanic.xlsx`:"
   ]
  },
  {
   "cell_type": "code",
   "execution_count": 9,
   "metadata": {},
   "outputs": [
    {
     "ename": "FileNotFoundError",
     "evalue": "[Errno 2] No such file or directory: 'titanic.xlsx'",
     "output_type": "error",
     "traceback": [
      "\u001b[1;31m---------------------------------------------------------------------------\u001b[0m",
      "\u001b[1;31mFileNotFoundError\u001b[0m                         Traceback (most recent call last)",
      "\u001b[1;32m<ipython-input-9-98a1433b3edc>\u001b[0m in \u001b[0;36m<module>\u001b[1;34m\u001b[0m\n\u001b[1;32m----> 1\u001b[1;33m \u001b[0mtitanic\u001b[0m \u001b[1;33m=\u001b[0m \u001b[0mpd\u001b[0m\u001b[1;33m.\u001b[0m\u001b[0mread_excel\u001b[0m\u001b[1;33m(\u001b[0m\u001b[1;34m'titanic.xlsx'\u001b[0m\u001b[1;33m)\u001b[0m\u001b[1;33m\u001b[0m\u001b[1;33m\u001b[0m\u001b[0m\n\u001b[0m",
      "\u001b[1;32m~\\Anaconda3\\lib\\site-packages\\pandas\\util\\_decorators.py\u001b[0m in \u001b[0;36mwrapper\u001b[1;34m(*args, **kwargs)\u001b[0m\n\u001b[0;32m    294\u001b[0m                 )\n\u001b[0;32m    295\u001b[0m                 \u001b[0mwarnings\u001b[0m\u001b[1;33m.\u001b[0m\u001b[0mwarn\u001b[0m\u001b[1;33m(\u001b[0m\u001b[0mmsg\u001b[0m\u001b[1;33m,\u001b[0m \u001b[0mFutureWarning\u001b[0m\u001b[1;33m,\u001b[0m \u001b[0mstacklevel\u001b[0m\u001b[1;33m=\u001b[0m\u001b[0mstacklevel\u001b[0m\u001b[1;33m)\u001b[0m\u001b[1;33m\u001b[0m\u001b[1;33m\u001b[0m\u001b[0m\n\u001b[1;32m--> 296\u001b[1;33m             \u001b[1;32mreturn\u001b[0m \u001b[0mfunc\u001b[0m\u001b[1;33m(\u001b[0m\u001b[1;33m*\u001b[0m\u001b[0margs\u001b[0m\u001b[1;33m,\u001b[0m \u001b[1;33m**\u001b[0m\u001b[0mkwargs\u001b[0m\u001b[1;33m)\u001b[0m\u001b[1;33m\u001b[0m\u001b[1;33m\u001b[0m\u001b[0m\n\u001b[0m\u001b[0;32m    297\u001b[0m \u001b[1;33m\u001b[0m\u001b[0m\n\u001b[0;32m    298\u001b[0m         \u001b[1;32mreturn\u001b[0m \u001b[0mwrapper\u001b[0m\u001b[1;33m\u001b[0m\u001b[1;33m\u001b[0m\u001b[0m\n",
      "\u001b[1;32m~\\Anaconda3\\lib\\site-packages\\pandas\\io\\excel\\_base.py\u001b[0m in \u001b[0;36mread_excel\u001b[1;34m(io, sheet_name, header, names, index_col, usecols, squeeze, dtype, engine, converters, true_values, false_values, skiprows, nrows, na_values, keep_default_na, na_filter, verbose, parse_dates, date_parser, thousands, comment, skipfooter, convert_float, mangle_dupe_cols)\u001b[0m\n\u001b[0;32m    302\u001b[0m \u001b[1;33m\u001b[0m\u001b[0m\n\u001b[0;32m    303\u001b[0m     \u001b[1;32mif\u001b[0m \u001b[1;32mnot\u001b[0m \u001b[0misinstance\u001b[0m\u001b[1;33m(\u001b[0m\u001b[0mio\u001b[0m\u001b[1;33m,\u001b[0m \u001b[0mExcelFile\u001b[0m\u001b[1;33m)\u001b[0m\u001b[1;33m:\u001b[0m\u001b[1;33m\u001b[0m\u001b[1;33m\u001b[0m\u001b[0m\n\u001b[1;32m--> 304\u001b[1;33m         \u001b[0mio\u001b[0m \u001b[1;33m=\u001b[0m \u001b[0mExcelFile\u001b[0m\u001b[1;33m(\u001b[0m\u001b[0mio\u001b[0m\u001b[1;33m,\u001b[0m \u001b[0mengine\u001b[0m\u001b[1;33m=\u001b[0m\u001b[0mengine\u001b[0m\u001b[1;33m)\u001b[0m\u001b[1;33m\u001b[0m\u001b[1;33m\u001b[0m\u001b[0m\n\u001b[0m\u001b[0;32m    305\u001b[0m     \u001b[1;32melif\u001b[0m \u001b[0mengine\u001b[0m \u001b[1;32mand\u001b[0m \u001b[0mengine\u001b[0m \u001b[1;33m!=\u001b[0m \u001b[0mio\u001b[0m\u001b[1;33m.\u001b[0m\u001b[0mengine\u001b[0m\u001b[1;33m:\u001b[0m\u001b[1;33m\u001b[0m\u001b[1;33m\u001b[0m\u001b[0m\n\u001b[0;32m    306\u001b[0m         raise ValueError(\n",
      "\u001b[1;32m~\\Anaconda3\\lib\\site-packages\\pandas\\io\\excel\\_base.py\u001b[0m in \u001b[0;36m__init__\u001b[1;34m(self, path_or_buffer, engine)\u001b[0m\n\u001b[0;32m    865\u001b[0m         \u001b[0mself\u001b[0m\u001b[1;33m.\u001b[0m\u001b[0m_io\u001b[0m \u001b[1;33m=\u001b[0m \u001b[0mstringify_path\u001b[0m\u001b[1;33m(\u001b[0m\u001b[0mpath_or_buffer\u001b[0m\u001b[1;33m)\u001b[0m\u001b[1;33m\u001b[0m\u001b[1;33m\u001b[0m\u001b[0m\n\u001b[0;32m    866\u001b[0m \u001b[1;33m\u001b[0m\u001b[0m\n\u001b[1;32m--> 867\u001b[1;33m         \u001b[0mself\u001b[0m\u001b[1;33m.\u001b[0m\u001b[0m_reader\u001b[0m \u001b[1;33m=\u001b[0m \u001b[0mself\u001b[0m\u001b[1;33m.\u001b[0m\u001b[0m_engines\u001b[0m\u001b[1;33m[\u001b[0m\u001b[0mengine\u001b[0m\u001b[1;33m]\u001b[0m\u001b[1;33m(\u001b[0m\u001b[0mself\u001b[0m\u001b[1;33m.\u001b[0m\u001b[0m_io\u001b[0m\u001b[1;33m)\u001b[0m\u001b[1;33m\u001b[0m\u001b[1;33m\u001b[0m\u001b[0m\n\u001b[0m\u001b[0;32m    868\u001b[0m \u001b[1;33m\u001b[0m\u001b[0m\n\u001b[0;32m    869\u001b[0m     \u001b[1;32mdef\u001b[0m \u001b[0m__fspath__\u001b[0m\u001b[1;33m(\u001b[0m\u001b[0mself\u001b[0m\u001b[1;33m)\u001b[0m\u001b[1;33m:\u001b[0m\u001b[1;33m\u001b[0m\u001b[1;33m\u001b[0m\u001b[0m\n",
      "\u001b[1;32m~\\Anaconda3\\lib\\site-packages\\pandas\\io\\excel\\_xlrd.py\u001b[0m in \u001b[0;36m__init__\u001b[1;34m(self, filepath_or_buffer)\u001b[0m\n\u001b[0;32m     20\u001b[0m         \u001b[0merr_msg\u001b[0m \u001b[1;33m=\u001b[0m \u001b[1;34m\"Install xlrd >= 1.0.0 for Excel support\"\u001b[0m\u001b[1;33m\u001b[0m\u001b[1;33m\u001b[0m\u001b[0m\n\u001b[0;32m     21\u001b[0m         \u001b[0mimport_optional_dependency\u001b[0m\u001b[1;33m(\u001b[0m\u001b[1;34m\"xlrd\"\u001b[0m\u001b[1;33m,\u001b[0m \u001b[0mextra\u001b[0m\u001b[1;33m=\u001b[0m\u001b[0merr_msg\u001b[0m\u001b[1;33m)\u001b[0m\u001b[1;33m\u001b[0m\u001b[1;33m\u001b[0m\u001b[0m\n\u001b[1;32m---> 22\u001b[1;33m         \u001b[0msuper\u001b[0m\u001b[1;33m(\u001b[0m\u001b[1;33m)\u001b[0m\u001b[1;33m.\u001b[0m\u001b[0m__init__\u001b[0m\u001b[1;33m(\u001b[0m\u001b[0mfilepath_or_buffer\u001b[0m\u001b[1;33m)\u001b[0m\u001b[1;33m\u001b[0m\u001b[1;33m\u001b[0m\u001b[0m\n\u001b[0m\u001b[0;32m     23\u001b[0m \u001b[1;33m\u001b[0m\u001b[0m\n\u001b[0;32m     24\u001b[0m     \u001b[1;33m@\u001b[0m\u001b[0mproperty\u001b[0m\u001b[1;33m\u001b[0m\u001b[1;33m\u001b[0m\u001b[0m\n",
      "\u001b[1;32m~\\Anaconda3\\lib\\site-packages\\pandas\\io\\excel\\_base.py\u001b[0m in \u001b[0;36m__init__\u001b[1;34m(self, filepath_or_buffer)\u001b[0m\n\u001b[0;32m    351\u001b[0m             \u001b[0mself\u001b[0m\u001b[1;33m.\u001b[0m\u001b[0mbook\u001b[0m \u001b[1;33m=\u001b[0m \u001b[0mself\u001b[0m\u001b[1;33m.\u001b[0m\u001b[0mload_workbook\u001b[0m\u001b[1;33m(\u001b[0m\u001b[0mfilepath_or_buffer\u001b[0m\u001b[1;33m)\u001b[0m\u001b[1;33m\u001b[0m\u001b[1;33m\u001b[0m\u001b[0m\n\u001b[0;32m    352\u001b[0m         \u001b[1;32melif\u001b[0m \u001b[0misinstance\u001b[0m\u001b[1;33m(\u001b[0m\u001b[0mfilepath_or_buffer\u001b[0m\u001b[1;33m,\u001b[0m \u001b[0mstr\u001b[0m\u001b[1;33m)\u001b[0m\u001b[1;33m:\u001b[0m\u001b[1;33m\u001b[0m\u001b[1;33m\u001b[0m\u001b[0m\n\u001b[1;32m--> 353\u001b[1;33m             \u001b[0mself\u001b[0m\u001b[1;33m.\u001b[0m\u001b[0mbook\u001b[0m \u001b[1;33m=\u001b[0m \u001b[0mself\u001b[0m\u001b[1;33m.\u001b[0m\u001b[0mload_workbook\u001b[0m\u001b[1;33m(\u001b[0m\u001b[0mfilepath_or_buffer\u001b[0m\u001b[1;33m)\u001b[0m\u001b[1;33m\u001b[0m\u001b[1;33m\u001b[0m\u001b[0m\n\u001b[0m\u001b[0;32m    354\u001b[0m         \u001b[1;32melif\u001b[0m \u001b[0misinstance\u001b[0m\u001b[1;33m(\u001b[0m\u001b[0mfilepath_or_buffer\u001b[0m\u001b[1;33m,\u001b[0m \u001b[0mbytes\u001b[0m\u001b[1;33m)\u001b[0m\u001b[1;33m:\u001b[0m\u001b[1;33m\u001b[0m\u001b[1;33m\u001b[0m\u001b[0m\n\u001b[0;32m    355\u001b[0m             \u001b[0mself\u001b[0m\u001b[1;33m.\u001b[0m\u001b[0mbook\u001b[0m \u001b[1;33m=\u001b[0m \u001b[0mself\u001b[0m\u001b[1;33m.\u001b[0m\u001b[0mload_workbook\u001b[0m\u001b[1;33m(\u001b[0m\u001b[0mBytesIO\u001b[0m\u001b[1;33m(\u001b[0m\u001b[0mfilepath_or_buffer\u001b[0m\u001b[1;33m)\u001b[0m\u001b[1;33m)\u001b[0m\u001b[1;33m\u001b[0m\u001b[1;33m\u001b[0m\u001b[0m\n",
      "\u001b[1;32m~\\Anaconda3\\lib\\site-packages\\pandas\\io\\excel\\_xlrd.py\u001b[0m in \u001b[0;36mload_workbook\u001b[1;34m(self, filepath_or_buffer)\u001b[0m\n\u001b[0;32m     35\u001b[0m             \u001b[1;32mreturn\u001b[0m \u001b[0mopen_workbook\u001b[0m\u001b[1;33m(\u001b[0m\u001b[0mfile_contents\u001b[0m\u001b[1;33m=\u001b[0m\u001b[0mdata\u001b[0m\u001b[1;33m)\u001b[0m\u001b[1;33m\u001b[0m\u001b[1;33m\u001b[0m\u001b[0m\n\u001b[0;32m     36\u001b[0m         \u001b[1;32melse\u001b[0m\u001b[1;33m:\u001b[0m\u001b[1;33m\u001b[0m\u001b[1;33m\u001b[0m\u001b[0m\n\u001b[1;32m---> 37\u001b[1;33m             \u001b[1;32mreturn\u001b[0m \u001b[0mopen_workbook\u001b[0m\u001b[1;33m(\u001b[0m\u001b[0mfilepath_or_buffer\u001b[0m\u001b[1;33m)\u001b[0m\u001b[1;33m\u001b[0m\u001b[1;33m\u001b[0m\u001b[0m\n\u001b[0m\u001b[0;32m     38\u001b[0m \u001b[1;33m\u001b[0m\u001b[0m\n\u001b[0;32m     39\u001b[0m     \u001b[1;33m@\u001b[0m\u001b[0mproperty\u001b[0m\u001b[1;33m\u001b[0m\u001b[1;33m\u001b[0m\u001b[0m\n",
      "\u001b[1;32m~\\Anaconda3\\lib\\site-packages\\xlrd\\__init__.py\u001b[0m in \u001b[0;36mopen_workbook\u001b[1;34m(filename, logfile, verbosity, use_mmap, file_contents, encoding_override, formatting_info, on_demand, ragged_rows)\u001b[0m\n\u001b[0;32m    109\u001b[0m     \u001b[1;32melse\u001b[0m\u001b[1;33m:\u001b[0m\u001b[1;33m\u001b[0m\u001b[1;33m\u001b[0m\u001b[0m\n\u001b[0;32m    110\u001b[0m         \u001b[0mfilename\u001b[0m \u001b[1;33m=\u001b[0m \u001b[0mos\u001b[0m\u001b[1;33m.\u001b[0m\u001b[0mpath\u001b[0m\u001b[1;33m.\u001b[0m\u001b[0mexpanduser\u001b[0m\u001b[1;33m(\u001b[0m\u001b[0mfilename\u001b[0m\u001b[1;33m)\u001b[0m\u001b[1;33m\u001b[0m\u001b[1;33m\u001b[0m\u001b[0m\n\u001b[1;32m--> 111\u001b[1;33m         \u001b[1;32mwith\u001b[0m \u001b[0mopen\u001b[0m\u001b[1;33m(\u001b[0m\u001b[0mfilename\u001b[0m\u001b[1;33m,\u001b[0m \u001b[1;34m\"rb\"\u001b[0m\u001b[1;33m)\u001b[0m \u001b[1;32mas\u001b[0m \u001b[0mf\u001b[0m\u001b[1;33m:\u001b[0m\u001b[1;33m\u001b[0m\u001b[1;33m\u001b[0m\u001b[0m\n\u001b[0m\u001b[0;32m    112\u001b[0m             \u001b[0mpeek\u001b[0m \u001b[1;33m=\u001b[0m \u001b[0mf\u001b[0m\u001b[1;33m.\u001b[0m\u001b[0mread\u001b[0m\u001b[1;33m(\u001b[0m\u001b[0mpeeksz\u001b[0m\u001b[1;33m)\u001b[0m\u001b[1;33m\u001b[0m\u001b[1;33m\u001b[0m\u001b[0m\n\u001b[0;32m    113\u001b[0m     \u001b[1;32mif\u001b[0m \u001b[0mpeek\u001b[0m \u001b[1;33m==\u001b[0m \u001b[1;34mb\"PK\\x03\\x04\"\u001b[0m\u001b[1;33m:\u001b[0m \u001b[1;31m# a ZIP file\u001b[0m\u001b[1;33m\u001b[0m\u001b[1;33m\u001b[0m\u001b[0m\n",
      "\u001b[1;31mFileNotFoundError\u001b[0m: [Errno 2] No such file or directory: 'titanic.xlsx'"
     ]
    }
   ],
   "source": [
    "titanic = pd.read_excel('titanic.xlsx')\n"
   ]
  },
  {
   "cell_type": "markdown",
   "metadata": {},
   "source": [
    "Para facilitar algumas análises nesta **Avaliação**, vamos excluir os passageiros que não possuem informação para a variável `Age` usando o comando `dropna()`:"
   ]
  },
  {
   "cell_type": "code",
   "execution_count": null,
   "metadata": {},
   "outputs": [],
   "source": [
    "dados = titanic.dropna(subset = ['Age']).copy()"
   ]
  },
  {
   "cell_type": "markdown",
   "metadata": {},
   "source": [
    "Para saber quantas linhas (passageiros) e colunas (variáveis) há no *DataFrame* nomeado `dados`:"
   ]
  },
  {
   "cell_type": "code",
   "execution_count": null,
   "metadata": {},
   "outputs": [],
   "source": [
    "dados.shape"
   ]
  },
  {
   "cell_type": "markdown",
   "metadata": {},
   "source": [
    "___\n",
    "**Definindo as variáveis qualitativas como categóricas:**\n",
    "\n",
    "O pandas não tem como saber quais variáveis são qualitativas ao carregar os dados. Então precisamos modificar as colunas explicitamente.\n",
    "\n",
    "Já deixamos isso pronto para você nesta avaliação:"
   ]
  },
  {
   "cell_type": "code",
   "execution_count": null,
   "metadata": {},
   "outputs": [],
   "source": [
    "dados.loc[:,'Survived'] = dados['Survived'].astype('category')\n",
    "dados.loc[:,'Pclass'] = dados['Pclass'].astype('category')\n",
    "dados.loc[:,'Sex'] = dados['Sex'].astype('category')\n",
    "dados.loc[:,'Cabin'] = dados['Cabin'].astype('category')\n",
    "dados.loc[:,'Embarked'] = dados['Embarked'].astype('category')"
   ]
  },
  {
   "cell_type": "markdown",
   "metadata": {},
   "source": [
    "Agora vamos renomear os rótulos das variáveis qualitativas `Survived` e `Pclass` com comando `.cat.categories`:"
   ]
  },
  {
   "cell_type": "code",
   "execution_count": null,
   "metadata": {},
   "outputs": [],
   "source": [
    "dados.Survived.cat.categories = ['No', 'Yes']\n",
    "dados.Pclass.cat.categories = ['1st','2nd','3rd']"
   ]
  },
  {
   "cell_type": "markdown",
   "metadata": {},
   "source": [
    "___\n",
    "***DataFrame* `dados` que deve considerar na resolução das questões a seguir:**"
   ]
  },
  {
   "cell_type": "code",
   "execution_count": null,
   "metadata": {},
   "outputs": [],
   "source": [
    "dados.head(3)"
   ]
  },
  {
   "cell_type": "markdown",
   "metadata": {},
   "source": [
    "<div id=\"q1\"></div>\n",
    "\n",
    "___\n",
    "### Questão 1"
   ]
  },
  {
   "cell_type": "markdown",
   "metadata": {},
   "source": [
    "Faça as seguintes manipulações:\n",
    " 1. **[1 ponto]** Filtre apenas as linhas dos passageiros que **viajaram na segunda classe** e que **sobreviveram** e selecione as variáveis: `Age` e `Fare`. Guarde esse subconjunto em um novo *DataFrame* chamado `surv`.\n",
    " \n",
    " $\\hspace{0.5mm}$\n",
    " 1. **[1 ponto]** Nesse subconjunto `surv`, encontre o passageiro que pagou o maior valor de tarifa. Se houver mais de um, encontre o mais velho. "
   ]
  },
  {
   "cell_type": "markdown",
   "metadata": {},
   "source": [
    "### RESPOSTAS\n",
    "\n",
    "#### Item 1"
   ]
  },
  {
   "cell_type": "code",
   "execution_count": null,
   "metadata": {},
   "outputs": [],
   "source": [
    "surv = dados.loc[(dados.Survived=='Yes')&(dados.Pclass=='2nd'), ['Age','Fare']]\n",
    "surv.head(3)"
   ]
  },
  {
   "cell_type": "code",
   "execution_count": null,
   "metadata": {},
   "outputs": [],
   "source": [
    "# maneira 1\n",
    "surv.sort_values(by=['Fare','Age'], ascending=False).head(3)"
   ]
  },
  {
   "cell_type": "code",
   "execution_count": null,
   "metadata": {},
   "outputs": [],
   "source": [
    "# maneira 2\n",
    "surv.sort_values(by=['Fare'], ascending=False).head(3) #aqui deve escolher segunda linha"
   ]
  },
  {
   "cell_type": "markdown",
   "metadata": {},
   "source": [
    "#### Item 2\n",
    "\n",
    "Idade | Tarifa\n",
    "----- | ------\n",
    "48    | 65.00"
   ]
  },
  {
   "cell_type": "markdown",
   "metadata": {},
   "source": [
    "<div id=\"q2\"></div>\n",
    "\n",
    "___\n",
    "### Questão 2"
   ]
  },
  {
   "cell_type": "markdown",
   "metadata": {},
   "source": [
    "Faça as seguintes manipulações considerando o *DataFrame* `dados`:\n",
    "  1. **[1 ponto]** Crie uma variável chamada `Age_group` que contenha as seguintes categorias a partir da variável `Age`:\n",
    "        * `Age` $<20$ years $\\rightarrow$ **child or teen**\n",
    "        * $20\\leq$ `Age` $<60$ years $\\rightarrow$ **adult**\n",
    "        * `Age` $\\geq60$ years $\\rightarrow$ **senior**\n",
    "  \n",
    "  $\\hspace{0.5mm}$\n",
    "  1. **[1 ponto]** Construa uma tabela de **frequências relativas** dessa nova variável `Age_group`. "
   ]
  },
  {
   "cell_type": "markdown",
   "metadata": {},
   "source": [
    "### RESPOSTAS\n",
    "\n",
    "#### Item 1"
   ]
  },
  {
   "cell_type": "code",
   "execution_count": null,
   "metadata": {},
   "outputs": [],
   "source": [
    "dados.loc[(dados.Age<20),'Age_group'] = 'child or teen'\n",
    "dados.loc[(dados.Age>=20)&(dados.Age<60),'Age_group'] = 'adult'\n",
    "dados.loc[(dados.Age>=60),'Age_group'] = 'senior'"
   ]
  },
  {
   "cell_type": "code",
   "execution_count": null,
   "metadata": {},
   "outputs": [],
   "source": [
    "# não é necessário\n",
    "dados.Age_group= dados.Age_group.astype('category')\n",
    "dados.Age_group.cat.categories = ['child or teen', 'adult', 'senior']"
   ]
  },
  {
   "cell_type": "markdown",
   "metadata": {},
   "source": [
    "#### Item 2"
   ]
  },
  {
   "cell_type": "code",
   "execution_count": null,
   "metadata": {},
   "outputs": [],
   "source": [
    "dados.Age_group.value_counts(True, sort=False)"
   ]
  },
  {
   "cell_type": "markdown",
   "metadata": {},
   "source": [
    "<div id=\"q3\"></div>\n",
    "\n",
    "___\n",
    "### Questão 3"
   ]
  },
  {
   "cell_type": "markdown",
   "metadata": {},
   "source": [
    "Faça as seguintes manipulações considerando o *DataFrame* `dados`:\n",
    "  1. **[1 ponto]** Crie uma tabela cruzada com as variáveis `Survived` e `Pclass` que contenha **as frequências relativas** que permitam visualizar o percentual de passageiros em cada categoria de `Pclass` **relativo ao total de passageiros em cada nível de `Survived`**.\n",
    "  \n",
    "  $\\hspace{0.5mm}$\n",
    "  1. **[1 ponto]** \n",
    "  Dos passageiros não sobreviventes, qual a frequência relativa (em decimal) destes que viajaram  na 3rd classe? E dos passageiros sobreviventes, qual a frequência relativa (em decimal) destes que viajaram  na 1st classe?\n"
   ]
  },
  {
   "cell_type": "markdown",
   "metadata": {},
   "source": [
    "### RESPOSTAS\n",
    "\n",
    "#### Item 1"
   ]
  },
  {
   "cell_type": "code",
   "execution_count": null,
   "metadata": {
    "scrolled": true
   },
   "outputs": [],
   "source": [
    "pd.crosstab(dados['Survived'], dados['Pclass'], margins=True, normalize='index')"
   ]
  },
  {
   "cell_type": "code",
   "execution_count": null,
   "metadata": {},
   "outputs": [],
   "source": [
    "# ERRADO\n",
    "pd.crosstab(dados['Survived'], dados['Pclass'], margins=True, normalize='columns')"
   ]
  },
  {
   "cell_type": "code",
   "execution_count": null,
   "metadata": {},
   "outputs": [],
   "source": [
    "# ERRADO\n",
    "pd.crosstab(dados['Survived'], dados['Pclass'], margins=True, normalize=True)"
   ]
  },
  {
   "cell_type": "code",
   "execution_count": null,
   "metadata": {},
   "outputs": [],
   "source": [
    "# ERRADO\n",
    "pd.crosstab(dados['Survived'], dados['Pclass'], margins=True)"
   ]
  },
  {
   "cell_type": "markdown",
   "metadata": {},
   "source": [
    "#### Item 2\n",
    "\n",
    "Dos passageiros não sobreviventes, a frequência relativa (em decimal) destes que viajaram  na 3rd classe é: 0.636 ou 0.637 (ambos são aceitos)\n",
    "\n",
    "Dos passageiros sobreviventes, a frequência relativa (em decimal) destes que viajaram  na 1st classe é: 0.420 ou 0.421 (ambos são aceitos)"
   ]
  },
  {
   "cell_type": "markdown",
   "metadata": {},
   "source": [
    "<div id=\"q4\"></div>\n",
    "\n",
    "___\n",
    "### Questão 4"
   ]
  },
  {
   "cell_type": "markdown",
   "metadata": {},
   "source": [
    "Faça as seguintes manipulações considerando o *DataFrame* `dados`:\n",
    "\n",
    "  1. **[1 ponto]** Para **cada nível da variável `Survived`**, crie uma tabela com medidas-resumo da variável `Fare`.\n",
    "  \n",
    "  $\\hspace{0.5mm}$\n",
    "  1. **[1 ponto]** \n",
    "  Verifique quais afirmações estão corretas de acordo com as medidas-resumo calculadas no item anterior.\n",
    "- 25% dos passageiros não sobreviventes pagaram, no máximo aproximadamente, 7.89 no valor da tarifa. \n",
    "- No Dataframe dados, há 424 passageiros sobreviventes. \n",
    "- A minoria dos passageiros não sobreviventes pagou, em média aproximadamente, mais do que 22.965 no valor da tarifa. \n",
    "- 25% dos passageiros sobreviventes pagaram, no mínimo aproximadamente, 13.00 no valor da tarifa. \n",
    "- A medida coeficiente de variação é dada pelo desvio padrão dividido pela média., permitindo interpretar a dispersão relativamente a média. Neste caso, a dispersão relativa a média da variável Fare é levemente menor entre os passageiros sobreviventes do que entre os não sobreviventes. "
   ]
  },
  {
   "cell_type": "markdown",
   "metadata": {},
   "source": [
    "### RESPOSTAS\n",
    "\n",
    "#### Item 1"
   ]
  },
  {
   "cell_type": "code",
   "execution_count": null,
   "metadata": {},
   "outputs": [],
   "source": [
    "dados.groupby('Survived')['Fare'].describe()"
   ]
  },
  {
   "cell_type": "markdown",
   "metadata": {},
   "source": [
    "#### Item 2\n",
    "\n",
    "- 25% dos passageiros não sobreviventes pagaram, no máximo aproximadamente, 7.89 no valor da tarifa. **[VERDADEIRO]**\n",
    "- No Dataframe dados, há 424 passageiros sobreviventes. **[FALSO]**\n",
    "- A minoria dos passageiros não sobreviventes pagou, em média aproximadamente, mais do que 22.965 no valor da tarifa. **[VERDADEIRO]**\n",
    "- 25% dos passageiros sobreviventes pagaram, no mínimo aproximadamente, 13.00 no valor da tarifa. **[FALSO]**\n",
    "- A medida coeficiente de variação é dada pelo desvio padrão dividido pela média., permitindo interpretar a dispersão relativamente a média. Neste caso, a dispersão relativa a média da variável Fare é levemente menor entre os passageiros sobreviventes do que entre os não sobreviventes. **[VERDADEIRO]**"
   ]
  },
  {
   "cell_type": "markdown",
   "metadata": {},
   "source": [
    "<div id=\"q5\"></div>\n",
    "\n",
    "___\n",
    "### Questão 5"
   ]
  },
  {
   "cell_type": "markdown",
   "metadata": {},
   "source": [
    "Estude a associação entre as variáveis `Age` e `Fare` separando os passageiros sobreviventes dos não sobreviventes.\n",
    "\n",
    "É possível afirmar, por exemplo, que pessoas mais velhas tendem a pagar por tarifas mais caras? E a associação entre essas variáveis quantitativas se dá da mesma forma entre os sobreviventes e não sobreviventes?\n",
    "\n",
    "Para investigar tais hipóteses, faça:\n",
    "\n",
    " 1. **[0.5 ponto]** Gere um **gráfico de dispersão** entre as variáveis `Age` e `Fare` considerando os passageiros sobreviventes e não sobreviventes separadamente.\n",
    " \n",
    " $\\hspace{0.5mm}$\n",
    " 1. **[0.5 ponto]** Calcule o **coeficiente de correlação linear** entre as variáveis `Age` e `Fare` só com os passageiros não sobreviventes. E a correlação só com os sobreviventes.\n",
    " \n",
    " $\\hspace{0.5mm}$\n",
    " 1. **[1 ponto]** **No Blackboard, responda as perguntas com base nos resultados dos itens anteriores.**"
   ]
  },
  {
   "cell_type": "markdown",
   "metadata": {},
   "source": [
    "### RESPOSTAS\n",
    "\n",
    "#### Item 1\n"
   ]
  },
  {
   "cell_type": "code",
   "execution_count": null,
   "metadata": {},
   "outputs": [],
   "source": [
    "fig = plt.figure(figsize=(13, 5))\n",
    "\n",
    "plt.subplot(121)\n",
    "plt.scatter(dados.Age[dados.Survived=='Yes'], dados.Fare[dados.Survived=='Yes'], c='red', alpha=0.4)\n",
    "plt.title('Survived - Yes')\n",
    "plt.ylabel('Fare')\n",
    "plt.ylim(0,300)\n",
    "plt.xlabel('Age')\n",
    "plt.xlim(-5,85)\n",
    "\n",
    "plt.subplot(122)\n",
    "plt.scatter(dados.Age[dados.Survived=='No'], dados.Fare[dados.Survived=='No'], c='blue', alpha=0.4)\n",
    "plt.title('Survived - No')\n",
    "plt.ylabel('Fare')\n",
    "plt.ylim(0,300)\n",
    "plt.xlabel('Age')\n",
    "plt.xlim(-5,85)\n",
    "\n",
    "plt.tight_layout()\n",
    "plt.show()"
   ]
  },
  {
   "cell_type": "markdown",
   "metadata": {},
   "source": [
    "#### Item 2"
   ]
  },
  {
   "cell_type": "code",
   "execution_count": null,
   "metadata": {},
   "outputs": [],
   "source": [
    "dados.Age[dados.Survived=='Yes'].corr(dados.Fare[dados.Survived=='Yes'])"
   ]
  },
  {
   "cell_type": "code",
   "execution_count": null,
   "metadata": {},
   "outputs": [],
   "source": [
    "dados.Age[dados.Survived=='No'].corr(dados.Fare[dados.Survived=='No'])"
   ]
  },
  {
   "cell_type": "markdown",
   "metadata": {},
   "source": [
    "#### Item 3\n",
    "\n",
    "Afirmações corretas:\n",
    "\n",
    "- Existe uma associação linear positiva entre as variáveis Age e Fare dos passageiros não sobreviventes\n",
    "- Existe uma associação linear positiva entre as variáveis Age e Fare dos passageiros sobreviventes\n",
    "- Existe uma associação linear fraca entre as variáveis Age e Fare dos passageiros não sobreviventes\n",
    "- Existe uma associação linear fraca entre as variáveis Age e Fare dos passageiros sobreviventes"
   ]
  }
 ],
 "metadata": {
  "hide_input": false,
  "kernelspec": {
   "display_name": "Python 3",
   "language": "python",
   "name": "python3"
  },
  "language_info": {
   "codemirror_mode": {
    "name": "ipython",
    "version": 3
   },
   "file_extension": ".py",
   "mimetype": "text/x-python",
   "name": "python",
   "nbconvert_exporter": "python",
   "pygments_lexer": "ipython3",
   "version": "3.8.5"
  }
 },
 "nbformat": 4,
 "nbformat_minor": 4
}
