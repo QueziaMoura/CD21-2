{
 "cells": [
  {
   "cell_type": "markdown",
   "metadata": {},
   "source": [
    "___\n",
    "# Exercício: Variáveis aleatórias discretas\n",
    "___\n",
    "\n",
    "## Aula 09"
   ]
  },
  {
   "cell_type": "markdown",
   "metadata": {},
   "source": [
    "<div id=\"indice\"></div>\n",
    "\n",
    "## Índice\n",
    "\n",
    "  - [Exercício 1](#ex1) **- APS5 disponível no Blackboard**\n",
    "  - [Exercício 2](#ex2)\n",
    "  - [Exercício 3](#ex3) **- APS5 disponível no Blackboard**"
   ]
  },
  {
   "cell_type": "markdown",
   "metadata": {},
   "source": [
    "___\n",
    "<div id=\"ex1\"></div>\n",
    "\n",
    "### EXERCÍCIO 1\n",
    "\n",
    "Um rapaz está pensando em convidar sua namorada para sair. O problema é que as despesas correm por sua conta. \n",
    "\n",
    "Eles podem ir ao cinema ou ao teatro. 70% das vezes ela prefere ir ao cinema, nesse caso, ele gasta 70.00 com os ingressos. \n",
    "Quando eles vão ao teatro, o gasto fica em 190.00. \n",
    "\n",
    "Se eles forem ao cinema, ele sabe que em 80% das vezes ela pede para ir jantar, a despesa adicional do jantar fica em 130.00; 20% das vezes, eles vão direto para casa. \n",
    "\n",
    "Levando a namorada ao teatro, em 40% das vezes ela pede para ir jantar e 60% das vezes eles vão direto para casa. \n",
    "\n",
    "a) Qual a distribuição de probabilidades do gasto que o rapaz tem com a namorada? Use a letra $G$ para variável gasto do rapaz com a namorada."
   ]
  },
  {
   "cell_type": "markdown",
   "metadata": {},
   "source": [
    "- $G_C$: Gasto qunado vai ao cinema.\n",
    "- $G_C^C$: Gasto quando não vai ao cinema.\n",
    "- $G_J$: Gasto com o jantar.\n",
    "- $G_J^c$: Jantar não ocorre\n",
    "\n",
    "\n",
    "          P(C)   = 0.7 | P(J)   = 0.8  | G = 70 + 130  |  P = 0.56  |  G = 200\n",
    "                       | P(J^c) = 0.2  | G = 70        |  P = 0.14  |  G = 70\n",
    "                       |               |               |            |\n",
    "          P(C^c) = 0.3 | P(J)   = 0.4  | G = 190 + 130 |  P = 0.12  |  G = 320\n",
    "                       | P(J^c) = 0.6  | G = 190       |  P = 0.18  |  G = 190"
   ]
  },
  {
   "cell_type": "markdown",
   "metadata": {},
   "source": [
    "b) Qual o gasto médio? E o seu desvio-padrão?\n",
    "\n",
    "*Resposta esperada para média e desvio padrão respectivamente: 194.4 ; 63.87988728856681*"
   ]
  },
  {
   "cell_type": "code",
   "execution_count": 1,
   "metadata": {},
   "outputs": [
    {
     "name": "stdout",
     "output_type": "stream",
     "text": [
      "A esperança, também chamada de média vale: R$ 194.4\n",
      "O desviu padrão vale : R$ 63.87988728856681\n"
     ]
    }
   ],
   "source": [
    "lisP = [0.56,0.14,0.12,0.18]\n",
    "lisG = [200,70,320,190]\n",
    "\n",
    "E = 0\n",
    "for i in range(len(lisP)):\n",
    "    E += lisP[i]*lisG[i]\n",
    "print(\"A esperança, também chamada de média vale: R$ {}\".format(E))\n",
    "\n",
    "var = 0\n",
    "\n",
    "for i in range(len(lisP)):\n",
    "    var += ((lisG[i] - E)**2)*lisP[i]\n",
    "    \n",
    "desvpad = var**0.5\n",
    "\n",
    "print(\"O desviu padrão vale : R$ {}\".format(desvpad))"
   ]
  },
  {
   "cell_type": "markdown",
   "metadata": {},
   "source": [
    "c) Com a inflação deste ano, o gasto total aumentou até agora 9.00, mas com a crise geral, o casal resolveu reduzir esse novo gasto total em 15%. Calcule o novo gasto médio e respectivo desvio padrão. Chame o novo gasto de $Y$.\n"
   ]
  },
  {
   "cell_type": "code",
   "execution_count": 2,
   "metadata": {},
   "outputs": [
    {
     "name": "stdout",
     "output_type": "stream",
     "text": [
      "A nova esperança, média vale: R$ 172.89\n",
      "O novo desvio padrão vale : R$ 76.98713978801914\n"
     ]
    }
   ],
   "source": [
    "# ESCREVA SEU CÓDIGO AQUI\n",
    "E_new = 0\n",
    "var_new = 0\n",
    "\n",
    "for i in range(len(lisG)):\n",
    "    lisG[i] += 9\n",
    "    lisG[i] *= 0.85\n",
    "    E_new += lisP[i]*lisG[i]\n",
    "    var_new += ((lisG[i]-E_new)**2)*lisP[i]\n",
    "    \n",
    "despad_new = var_new**0.5\n",
    "\n",
    "print(\"A nova esperança, média vale: R$ {}\".format(E_new))\n",
    "print(\"O novo desvio padrão vale : R$ {}\".format(despad_new))"
   ]
  },
  {
   "cell_type": "markdown",
   "metadata": {},
   "source": [
    "___\n",
    "<div id=\"ex2\"></div>\n",
    "\n",
    "### EXERCÍCIO 2 - extraído de Montgomery e Runger\n",
    "\n",
    "*Exercício 3-33*\n",
    "\n",
    "Um arranjo consiste em três componentes mecânicos.\n",
    "\n",
    "Suponha que as probabilidades de o primeiro, o segundo e o terceiro componentes satisfazerem as especificações sejam iguais a 0,95; 0,98 e 0,99.\n",
    "\n",
    "Considere que os componentes sejam independentes.\n",
    "\n",
    "Construa a distribuição de probabilidades do número de componentes no arranjo que satisfazem as especificações.\n"
   ]
  },
  {
   "cell_type": "code",
   "execution_count": 3,
   "metadata": {},
   "outputs": [],
   "source": [
    "# ESCREVA SEU CÓDIGO AQUI"
   ]
  },
  {
   "cell_type": "markdown",
   "metadata": {},
   "source": [
    "___\n",
    "<div id=\"ex3\"></div>\n",
    "\n",
    "### EXERCÍCIO 3 - extraído de Montgomery e Runger\n",
    "\n",
    "*Exercício 3-67*\n",
    "\n",
    "O sistema de controle aéreo, chamado PASS (Primary Avionics Software Set), do ônibus espacial uso quatro computadores independentes trabalhando em paralelo. \n",
    "\n",
    "Em cada etapa crítica, os computadores “votam” para determinar a etapa apropriada. A probabilidade de o computador pedir para manobrar para a esquerda quando uma manobra para a direita seria apropriada é de 0,0001. \n",
    "\n",
    "Seja X o número de computadores que votam em uma manobra para a esquerda quando uma manobra para a direita seria apropriada. \n",
    "\n",
    "Construa a distribuição de probabilidades de X. Calcule média e desvio padrão.\n"
   ]
  },
  {
   "cell_type": "markdown",
   "metadata": {},
   "source": [
    "Qual média de X? E o seu desvio-padrão?"
   ]
  },
  {
   "cell_type": "code",
   "execution_count": 4,
   "metadata": {},
   "outputs": [],
   "source": [
    "from scipy import stats #importa apenas as funções de estatísticas da biblioteca SciPy."
   ]
  },
  {
   "cell_type": "code",
   "execution_count": 6,
   "metadata": {},
   "outputs": [
    {
     "name": "stdout",
     "output_type": "stream",
     "text": [
      "0.00040\n",
      "0.020\n",
      "0.0004\n",
      "[0.9996000599960001, 0.00039988001199960056, 5.998800059999999e-08, 3.999600000000002e-12, 1.0000000000000037e-16]\n"
     ]
    }
   ],
   "source": [
    "n = 4\n",
    "P_erro   = 1e-4\n",
    "P_acert0 = 1 - P_erro\n",
    "\n",
    "P = []\n",
    "soma_p = 1\n",
    "for i in range(0,n+1):\n",
    "    binomial = stats.binom.pmf(i,n,P_erro)\n",
    "    P.append(binomial)\n",
    "# O vet(or P representa a propabilidade de cada maquina falhar, sendo seu indice o numero de maquinas que falham\n",
    "\n",
    "media = 0\n",
    "v = 0\n",
    "# a media é a media ponderada de maquinas ruins, dai basta multiplicar o numero de maquinas ruins pela sua respectiva probabilidade\n",
    "for i in range(len(P)):\n",
    "    media += (i*P[i])\n",
    "    # já a variancia terá como referencia o numero de maquinas ruins, dai basta considerar o númerod e maquinas ruins ser o \"gasto\"\n",
    "    # e executar a formula de acordo com o exercicio anterior\n",
    "    v += ((i-media)**2)*P[i]\n",
    "\n",
    "des = v**0.5\n",
    "\n",
    "print(\"{:.5f}\".format(media))\n",
    "print(\"{:.3f}\".format(des))"
   ]
  }
 ],
 "metadata": {
  "interpreter": {
   "hash": "894588d70223105318f3a6143f469ff55b12e3d45628534b2f37efc006a33ec3"
  },
  "kernelspec": {
   "display_name": "Python 3",
   "language": "python",
   "name": "python3"
  },
  "language_info": {
   "codemirror_mode": {
    "name": "ipython",
    "version": 3
   },
   "file_extension": ".py",
   "mimetype": "text/x-python",
   "name": "python",
   "nbconvert_exporter": "python",
   "pygments_lexer": "ipython3",
   "version": "3.8.5"
  }
 },
 "nbformat": 4,
 "nbformat_minor": 4
}
