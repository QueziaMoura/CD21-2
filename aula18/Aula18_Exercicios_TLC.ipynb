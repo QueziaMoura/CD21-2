{
 "cells": [
  {
   "cell_type": "markdown",
   "metadata": {},
   "source": [
    "___\n",
    "# Exercício: Uso da Distribuição Amostral da Média via resultado do TLC\n",
    "___\n",
    "## Aula 18"
   ]
  },
  {
   "cell_type": "markdown",
   "metadata": {},
   "source": [
    "<div id=\"indice\"></div>\n",
    "\n",
    "## Índice\n",
    "\n",
    "- [Exercício 1](#ex1)\n",
    "- [Exercício 2](#ex2)\n",
    "- [Exercício 3](#ex3)\n",
    "___"
   ]
  },
  {
   "cell_type": "code",
   "execution_count": 1,
   "metadata": {},
   "outputs": [],
   "source": [
    "%matplotlib inline\n",
    "%reset -f\n",
    "import matplotlib.pyplot as plt\n",
    "import pandas as pd\n",
    "import numpy as np\n",
    "from scipy import stats\n",
    "from scipy.stats import norm, uniform\n",
    "\n",
    "from math import sqrt"
   ]
  },
  {
   "cell_type": "markdown",
   "metadata": {},
   "source": [
    "___\n",
    "\n",
    "<div id=\"ex1\"></div>\n",
    "\n",
    "### EXERCÍCIO 1\n",
    "\n",
    "Suponha que a variável aleatória $X$ tem distribuição contínua Uniforme no intervalo de $[4; 6]$:\n",
    "\n",
    "$$f(x) = 1/2, 4 \\leq x \\leq 6$$\n",
    "caso contrário:\n",
    "$$f(x) = 0$$\n",
    "\n",
    "Apresente a distribuição da média amostral considerando amostras aleatórias de tamanho $n = 40$ extraídas de $X$.\n",
    "\n",
    "*Resposta esperada: $ \\overline{X} \\sim Normal(5; 0.008333333333333333)$*"
   ]
  },
  {
   "cell_type": "code",
   "execution_count": 2,
   "metadata": {},
   "outputs": [],
   "source": [
    "# ESCREVA SEU CÓDIGO AQUI"
   ]
  },
  {
   "cell_type": "markdown",
   "metadata": {},
   "source": [
    "___\n",
    "\n",
    "<div id=\"ex2\"></div>\n",
    "\n",
    "### EXERCÍCIO 2\n",
    "\n",
    "(Montgomery Exercício 7-3 da Seção 7-2). \n",
    "\n",
    "Tubos de PVC têm um diâmetro médio de $1.01 in$ e um desvio padrão de $0.003 in$. Encontre a probabilidade de que uma amostra aleatória de  $n = 9$  seções do tubo tenham um diâmetro médio de amostra maior que $1.009 in$ e menor que $1.012 in$.\n",
    "\n",
    "*Resposta esperada: 0.8185946141203909*"
   ]
  },
  {
   "cell_type": "code",
   "execution_count": 3,
   "metadata": {},
   "outputs": [],
   "source": [
    "# ESCREVA SEU CÓDIGO AQUI"
   ]
  },
  {
   "cell_type": "markdown",
   "metadata": {},
   "source": [
    "___\n",
    "\n",
    "<div id=\"ex3\"></div>\n",
    "\n",
    "### EXERCÍCIO 3\n",
    "\n",
    "(Baseado em Montgomery Exercício 7-12 da Seção 7-2). \n",
    "\n",
    "A quantidade de tempo que um consumidor gasta esperando no balcão de *check-in* de um aeroporto é uma \n",
    "\n",
    "* variável aleatória com média $8.2$ minutos e desvio padrão de $1.5$ minutos.*\n",
    "\n",
    "Suponha que uma amostra aleatória de $n = 49$ consumidores seja observada.\n",
    "\n",
    "Encontre:\n",
    "\n",
    "a) a probabilidade de que o tempo médio amostral de espera na fila para esses consumidores seja menor do que 9 minutos\n",
    "\n",
    "b) a probabilidade de que o tempo médio amostral de espera na fila para esses consumidores seja entre 8 e 8.5 minutos\n",
    "\n",
    "c) a maior estimativa da média amostral referente aos 5% menores valores (mais difíceis) de acontecerem em uma amostra de 49 consumidores.\n",
    "\n",
    "d) a menor estimativa da média amostral referente aos 5% maiores valores (mais difíceis) de acontecerem em uma amostra de 49 consumidores.\n",
    "\n",
    "*Respostas esperadas: 0.9999055188751956, 0.7439193959139991, 7.847531365653255, 8.552468634346743*"
   ]
  },
  {
   "cell_type": "code",
   "execution_count": 4,
   "metadata": {},
   "outputs": [],
   "source": [
    "# X: Tempo gasto no balcão (em minutos)\n",
    "\n",
    "# E(X) = 8.2; DP(X) = 1.5 --> Var(X) = 1.5**2\n",
    "# X ~ ?\n",
    "\n",
    "\n",
    "# n = 49 clientes\n",
    "# X_barra ~ Normal (8.2; (1.5)**2/49)\n",
    "# exata : X ~ Normal\n",
    "# aproximada : X ~/ Normal\n"
   ]
  },
  {
   "cell_type": "code",
   "execution_count": 10,
   "metadata": {},
   "outputs": [],
   "source": [
    "n = 49\n",
    "mu_3 = 8.2\n",
    "dp_3 = 1.5\n",
    "sigma = dp_3**2\n",
    "\n",
    "\n",
    "# X_BARRA tem duas opções:\n",
    "\n",
    "\n",
    "# 1: se for uma normal será exatamente X_barra ~ N\n",
    "# 2: se não for normal será aproximadamente X_barra ~ N\n",
    "\n",
    "# X_barra ~ N(8.2, raiz(1.5²/49)) "
   ]
  },
  {
   "cell_type": "code",
   "execution_count": 11,
   "metadata": {},
   "outputs": [],
   "source": [
    "Var = (dp_3**2)/49\n",
    "dp_x_barra = sqrt(Var)"
   ]
  },
  {
   "cell_type": "code",
   "execution_count": 13,
   "metadata": {},
   "outputs": [
    {
     "data": {
      "text/plain": [
       "0.9999055188751956"
      ]
     },
     "execution_count": 13,
     "metadata": {},
     "output_type": "execute_result"
    }
   ],
   "source": [
    "# Letra a.\n",
    "\n",
    "# P(X_barra < 9)\n",
    "\n",
    "Prob_menor9 = stats.norm.cdf(9, loc = mu_3, scale = dp_x_barra)\n",
    "Prob_menor9 "
   ]
  },
  {
   "cell_type": "code",
   "execution_count": 14,
   "metadata": {},
   "outputs": [
    {
     "data": {
      "text/plain": [
       "0.7439193959139991"
      ]
     },
     "execution_count": 14,
     "metadata": {},
     "output_type": "execute_result"
    }
   ],
   "source": [
    "# Letra b.\n",
    "\n",
    "# P(8.0 < X_barra < 8.5) = P(X <= 8.5) - P( X < 8)\n",
    "\n",
    "\n",
    "Prob_ate8 = stats.norm.cdf(8, loc = mu_3, scale = dp_x_barra)\n",
    "Prob_ate8emeio = stats.norm.cdf(8.5, loc = mu_3, scale = dp_x_barra)\n",
    "Prob_entre8e8meio = Prob_ate8emeio - Prob_ate8\n",
    "Prob_entre8e8meio\n"
   ]
  },
  {
   "cell_type": "code",
   "execution_count": 16,
   "metadata": {},
   "outputs": [
    {
     "data": {
      "text/plain": [
       "7.847531365653255"
      ]
     },
     "execution_count": 16,
     "metadata": {},
     "output_type": "execute_result"
    }
   ],
   "source": [
    "# Letra c.\n",
    "\n",
    "ponto_5_menor = stats.norm.ppf(0.05, loc = mu_3, scale = dp_x_barra)\n",
    "ponto_5_menor"
   ]
  },
  {
   "cell_type": "code",
   "execution_count": 17,
   "metadata": {},
   "outputs": [
    {
     "data": {
      "text/plain": [
       "8.552468634346743"
      ]
     },
     "execution_count": 17,
     "metadata": {},
     "output_type": "execute_result"
    }
   ],
   "source": [
    "# Letra d.\n",
    "\n",
    "ponto_5_maior = stats.norm.ppf(1 - 0.05, loc = mu_3, scale = dp_x_barra)\n",
    "ponto_5_maior"
   ]
  }
 ],
 "metadata": {
  "kernelspec": {
   "display_name": "Python 3",
   "language": "python",
   "name": "python3"
  },
  "language_info": {
   "codemirror_mode": {
    "name": "ipython",
    "version": 3
   },
   "file_extension": ".py",
   "mimetype": "text/x-python",
   "name": "python",
   "nbconvert_exporter": "python",
   "pygments_lexer": "ipython3",
   "version": "3.8.5"
  }
 },
 "nbformat": 4,
 "nbformat_minor": 2
}
